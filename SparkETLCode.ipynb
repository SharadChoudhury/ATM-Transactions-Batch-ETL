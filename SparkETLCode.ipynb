{
  "cells": [
    {
      "cell_type": "code",
      "execution_count": null,
      "metadata": {
        "colab": {
          "base_uri": "https://localhost:8080/"
        },
        "id": "CrDe_yfj4TpG",
        "outputId": "188d5983-2259-405a-f9c8-65f6c52bdcea"
      },
      "outputs": [],
      "source": [
        "sc"
      ]
    },
    {
      "cell_type": "code",
      "execution_count": null,
      "metadata": {
        "colab": {
          "base_uri": "https://localhost:8080/",
          "height": 221
        },
        "id": "xLoNFqZT4Wp7",
        "outputId": "0c1bf1e1-27d6-4ca3-be9b-1310c507f67f"
      },
      "outputs": [],
      "source": [
        "\n",
        "spark"
      ]
    },
    {
      "cell_type": "code",
      "execution_count": null,
      "metadata": {
        "id": "ib-5G9NkOgSZ"
      },
      "outputs": [],
      "source": [
        "from pyspark.sql.types import *\n",
        "from pyspark.sql.window import Window\n",
        "from pyspark.sql.functions import *"
      ]
    },
    {
      "cell_type": "code",
      "execution_count": null,
      "metadata": {
        "id": "yomz7JxYOYGD"
      },
      "outputs": [],
      "source": [
        "# creating custom schema\n",
        "\n",
        "schema = StructType([\n",
        "    StructField(\"year\", IntegerType(), True),\n",
        "    StructField(\"month\", StringType(), True),\n",
        "    StructField(\"day\", IntegerType(), True),\n",
        "    StructField(\"weekday\", StringType(), True),\n",
        "    StructField(\"hour\", IntegerType(), True),\n",
        "    StructField(\"atm_status\", StringType(), True),\n",
        "    StructField(\"atm_id\", StringType(), True),\n",
        "    StructField(\"atm_manufacturer\", StringType(), True),\n",
        "    StructField(\"atm_location\", StringType(), True),\n",
        "    StructField(\"atm_streetname\", StringType(), True),\n",
        "    StructField(\"atm_street_number\", IntegerType(), True),\n",
        "    StructField(\"atm_zipcode\", IntegerType(), True),\n",
        "    StructField(\"atm_lat\", DoubleType(), True),\n",
        "    StructField(\"atm_lon\", DoubleType(), True),\n",
        "    StructField(\"currency\", StringType(), True),\n",
        "    StructField(\"card_type\", StringType(), True),\n",
        "    StructField(\"transaction_amount\", IntegerType(), True),\n",
        "    StructField(\"service\", StringType(), True),\n",
        "    StructField(\"message_code\", StringType(), True),\n",
        "    StructField(\"message_text\", StringType(), True),\n",
        "    StructField(\"weather_lat\", DoubleType(), True),\n",
        "    StructField(\"weather_lon\", DoubleType(), True),\n",
        "    StructField(\"weather_city_id\", IntegerType(), True),\n",
        "    StructField(\"weather_city_name\", StringType(), True),\n",
        "    StructField(\"temp\", DoubleType(), True),\n",
        "    StructField(\"pressure\", IntegerType(), True),\n",
        "    StructField(\"humidity\", IntegerType(), True),\n",
        "    StructField(\"wind_speed\", IntegerType(), True),\n",
        "    StructField(\"wind_deg\", IntegerType(), True),\n",
        "    StructField(\"rain_3h\", DoubleType(), True),\n",
        "    StructField(\"clouds_all\", IntegerType(), True),\n",
        "    StructField(\"weather_id\", IntegerType(), True),\n",
        "    StructField(\"weather_main\", StringType(), True),\n",
        "    StructField(\"weather_description\", StringType(), True)\n",
        "])"
      ]
    },
    {
      "cell_type": "code",
      "execution_count": null,
      "metadata": {
        "colab": {
          "base_uri": "https://localhost:8080/"
        },
        "id": "ICO6Pi9t4qmy",
        "outputId": "ef2ecaaa-cda3-44c5-a7c0-95943d9dca0c"
      },
      "outputs": [],
      "source": [
        "# reading the data from HDFS\n",
        "\n",
        "df = spark.read \\\n",
        "    .format(\"csv\") \\\n",
        "    .option(\"header\", \"false\") \\\n",
        "    .schema(schema) \\\n",
        "    .load(\"data/ATM.csv\", sep='|')\n",
        "\n",
        "\n",
        "df.show(5)"
      ]
    },
    {
      "cell_type": "code",
      "execution_count": null,
      "metadata": {},
      "outputs": [],
      "source": [
        "# verify count of total records \n",
        "df.count()"
      ]
    },
    {
      "cell_type": "code",
      "execution_count": null,
      "metadata": {},
      "outputs": [],
      "source": [
        "df.rdd.getNumPartitions()"
      ]
    },
    {
      "cell_type": "code",
      "execution_count": null,
      "metadata": {
        "colab": {
          "base_uri": "https://localhost:8080/"
        },
        "id": "16REr4ioG47d",
        "outputId": "4fc1742d-e4e9-4335-dbaa-1435b4d5c44f"
      },
      "outputs": [],
      "source": [
        "# check if the schema is correct\n",
        "df.printSchema()"
      ]
    },
    {
      "cell_type": "markdown",
      "metadata": {
        "id": "AqpxiK812n-H"
      },
      "source": [
        "## Creating Location dimension"
      ]
    },
    {
      "cell_type": "code",
      "execution_count": null,
      "metadata": {
        "id": "21ADK2t-JXZl"
      },
      "outputs": [],
      "source": [
        "# select only distinct records in all dimension tables.\n",
        "df_location = df.select('atm_location','atm_streetname','atm_street_number','atm_zipcode','atm_lat','atm_lon').distinct()\n"
      ]
    },
    {
      "cell_type": "code",
      "execution_count": null,
      "metadata": {
        "colab": {
          "base_uri": "https://localhost:8080/"
        },
        "id": "InrkUlriLXGf",
        "outputId": "5feb48b9-b9f5-476b-a686-74e45d871b41"
      },
      "outputs": [],
      "source": [
        "df_location.show(5)"
      ]
    },
    {
      "cell_type": "code",
      "execution_count": null,
      "metadata": {
        "colab": {
          "base_uri": "https://localhost:8080/"
        },
        "id": "LKHIJlOOtsJo",
        "outputId": "65344e48-d715-4cd9-dc8b-1b9c16b7d685"
      },
      "outputs": [],
      "source": [
        "df_location.count()"
      ]
    },
    {
      "cell_type": "code",
      "execution_count": null,
      "metadata": {
        "colab": {
          "base_uri": "https://localhost:8080/"
        },
        "id": "hUkP8PQpyNLk",
        "outputId": "4a5aedff-8f04-4fed-823b-8c7b1ae34997"
      },
      "outputs": [],
      "source": [
        "df_location.select('*').show(5)"
      ]
    },
    {
      "cell_type": "code",
      "execution_count": null,
      "metadata": {
        "id": "NhNIqSHRucvV"
      },
      "outputs": [],
      "source": [
        "# creating a primary key 'location_id' based on row_number\n",
        "\n",
        "window_spec = Window.partitionBy().orderBy(df_location['atm_location'])\n",
        "df_location = df_location.select(row_number().over(window_spec).alias('location_id'), '*')\n"
      ]
    },
    {
      "cell_type": "code",
      "execution_count": null,
      "metadata": {
        "colab": {
          "base_uri": "https://localhost:8080/"
        },
        "id": "8fh4c7m6vnd9",
        "outputId": "3cbae1e0-cb43-4513-d41e-66cada10615a"
      },
      "outputs": [],
      "source": [
        "df_location.show(10)"
      ]
    },
    {
      "cell_type": "code",
      "execution_count": null,
      "metadata": {
        "colab": {
          "base_uri": "https://localhost:8080/"
        },
        "id": "XBebstFjBtcp",
        "outputId": "34ca339f-4434-43e4-9fd0-71c7d3865415"
      },
      "outputs": [],
      "source": [
        "df_location.count()"
      ]
    },
    {
      "cell_type": "code",
      "execution_count": null,
      "metadata": {
        "colab": {
          "base_uri": "https://localhost:8080/"
        },
        "id": "oCKCaokkAob4",
        "outputId": "f2394b4b-0210-407f-d432-c9066c0bdf61"
      },
      "outputs": [],
      "source": [
        "df_location.printSchema()"
      ]
    },
    {
      "cell_type": "markdown",
      "metadata": {
        "id": "KVXRR33h2s6b"
      },
      "source": [
        "## Creating ATM dimension"
      ]
    },
    {
      "cell_type": "code",
      "execution_count": null,
      "metadata": {
        "colab": {
          "base_uri": "https://localhost:8080/"
        },
        "id": "vv6yrS1Mx0Dt",
        "outputId": "0585c5ba-6db3-417a-d094-ad80243e949e"
      },
      "outputs": [],
      "source": [
        "# Also select the columns 'atm_location','atm_streetname','atm_street_number','atm_zipcode','atm_lat','atm_lon' to join\n",
        "# the table with location table using these columns to fetch the location_id\n",
        "\n",
        "df_atm = df.select('atm_id','atm_manufacturer','atm_location','atm_streetname',\n",
        "                   'atm_street_number', 'atm_zipcode','atm_lat','atm_lon').distinct()\n",
        "df_atm.count()\n"
      ]
    },
    {
      "cell_type": "code",
      "execution_count": null,
      "metadata": {
        "colab": {
          "base_uri": "https://localhost:8080/"
        },
        "id": "oHegFDrgQsX5",
        "outputId": "3fefe205-9459-41de-d681-92dd85094c32"
      },
      "outputs": [],
      "source": [
        "df_atm.show(5)"
      ]
    },
    {
      "cell_type": "code",
      "execution_count": null,
      "metadata": {
        "id": "8-J7fuwT4IHy"
      },
      "outputs": [],
      "source": [
        "# creating views for atm and location dimension to join them using sql and create foreign key location_id\n",
        "# in atm table based on location table primary key\n",
        "\n",
        "df_atm.createOrReplaceTempView('atm')\n",
        "df_location.createOrReplaceTempView('loc')"
      ]
    },
    {
      "cell_type": "code",
      "execution_count": null,
      "metadata": {
        "colab": {
          "base_uri": "https://localhost:8080/"
        },
        "id": "PtnKjbLl4LPI",
        "outputId": "8f82393c-8603-45e3-d4ca-467756dd2c93"
      },
      "outputs": [],
      "source": [
        "# joining on atm_location to fetch the location_id from location dimension.\n",
        "# doing left join to fetch the location_id for each atm_id\n",
        "# joining is possible on atm_location as atm_location\n",
        "\n",
        "df_atm = spark.sql(\" select atm.atm_id, atm.atm_manufacturer, loc.location_id \\\n",
        "                     from atm left join loc on \\\n",
        "                     atm.atm_location = loc.atm_location and \\\n",
        "                     atm.atm_streetname = loc.atm_streetname and \\\n",
        "                     atm.atm_street_number = loc.atm_street_number and \\\n",
        "                     atm.atm_zipcode = loc.atm_zipcode and \\\n",
        "                     atm.atm_lat = loc.atm_lat and \\\n",
        "                     atm.atm_lon = loc.atm_lon \")\n",
        "\n",
        "df_atm.show(10)"
      ]
    },
    {
      "cell_type": "code",
      "execution_count": null,
      "metadata": {
        "colab": {
          "base_uri": "https://localhost:8080/"
        },
        "id": "Frw5LOn061x7",
        "outputId": "7b8d9e32-29ce-42b5-aee0-85f7facbafec"
      },
      "outputs": [],
      "source": [
        "df_atm.count()"
      ]
    },
    {
      "cell_type": "code",
      "execution_count": null,
      "metadata": {
        "id": "AqFF_SVzAup3"
      },
      "outputs": [],
      "source": [
        "# atm_id in fact table should be atm_number as per the atm schema\n",
        "# and atm_id in atm schema should be the primary key generated using row_number\n",
        "\n",
        "window_spec = Window.partitionBy().orderBy(df_atm['atm_id'])\n",
        "df_atm = df_atm.select(row_number().over(window_spec).alias('atm_id'),\n",
        "                       col('atm_id').alias('atm_number'),\n",
        "                       'atm_manufacturer', 'location_id')\n"
      ]
    },
    {
      "cell_type": "code",
      "execution_count": null,
      "metadata": {
        "colab": {
          "base_uri": "https://localhost:8080/"
        },
        "id": "Xx9kBUKuWhAp",
        "outputId": "29c9150e-2199-4a89-9239-dff056dbd2a0"
      },
      "outputs": [],
      "source": [
        "df_atm.show(10)"
      ]
    },
    {
      "cell_type": "code",
      "execution_count": null,
      "metadata": {
        "colab": {
          "base_uri": "https://localhost:8080/"
        },
        "id": "Y6bIePde7aV3",
        "outputId": "587de7df-8d9e-4a4b-ced9-f61bc9efb427"
      },
      "outputs": [],
      "source": [
        "df_atm.printSchema()"
      ]
    },
    {
      "cell_type": "markdown",
      "metadata": {
        "id": "Ptkx8nlzBD7G"
      },
      "source": [
        "## Creating Date dimension"
      ]
    },
    {
      "cell_type": "code",
      "execution_count": null,
      "metadata": {
        "colab": {
          "base_uri": "https://localhost:8080/"
        },
        "id": "NOeLf1-QABnA",
        "outputId": "bd20d566-5a8e-48ae-e79c-249a672c6d05"
      },
      "outputs": [],
      "source": [
        "df_date = df.select(\"year\",\"month\",\"day\",\"hour\",\"weekday\").distinct()\n",
        "df_date.show(5)\n"
      ]
    },
    {
      "cell_type": "code",
      "execution_count": null,
      "metadata": {
        "colab": {
          "base_uri": "https://localhost:8080/"
        },
        "id": "niw3-hDKAaYF",
        "outputId": "fafe4f2e-5793-4690-d300-b10f9efc5da9"
      },
      "outputs": [],
      "source": [
        "df_date.count()\n"
      ]
    },
    {
      "cell_type": "code",
      "execution_count": null,
      "metadata": {
        "id": "wLBkIAPpNL5C"
      },
      "outputs": [],
      "source": [
        "# If using Spark version > 3.0, then use this for proper conversion to timestamp\n",
        "\n",
        "# spark.conf.set(\"spark.sql.legacy.timeParserPolicy\", \"LEGACY\")"
      ]
    },
    {
      "cell_type": "code",
      "execution_count": null,
      "metadata": {
        "id": "Ulp46pV2EV_s"
      },
      "outputs": [],
      "source": [
        "# create the timestamp using year, month, day, hour columns\n",
        "# date_id is the primary key generated using row_number\n",
        "\n",
        "window_spec = Window.partitionBy().orderBy('year','month','day','hour')\n",
        "\n",
        "df_date = df_date.select(row_number().over(window_spec).alias('date_id'),\n",
        "                         to_timestamp(\n",
        "                            concat_ws(\n",
        "                                \" \",\n",
        "                                df[\"year\"].cast(\"string\"),  # Cast year to string\n",
        "                                df[\"month\"],\n",
        "                                df[\"day\"].cast(\"string\"),   # Cast day to string\n",
        "                                df[\"hour\"].cast(\"string\"),  # Cast hour to string\n",
        "                                    ),\n",
        "                    \"yyyy MMMM dd HH\" ).alias('full_date_time'),\n",
        "                         '*')\n"
      ]
    },
    {
      "cell_type": "code",
      "execution_count": null,
      "metadata": {
        "colab": {
          "base_uri": "https://localhost:8080/"
        },
        "id": "Vdkc-hCPEo4J",
        "outputId": "e57cbc94-2e0b-47ea-910f-50e12e66f010"
      },
      "outputs": [],
      "source": [
        "df_date.show(5)"
      ]
    },
    {
      "cell_type": "code",
      "execution_count": null,
      "metadata": {
        "colab": {
          "base_uri": "https://localhost:8080/"
        },
        "id": "eK1_QXxtMu4S",
        "outputId": "ba3688ac-a9e9-43ba-8eb1-43a9169b74d7"
      },
      "outputs": [],
      "source": [
        "df_date.printSchema()"
      ]
    },
    {
      "cell_type": "markdown",
      "metadata": {
        "id": "z7Xv8BK2Pam7"
      },
      "source": [
        "## Creating Card type dimension"
      ]
    },
    {
      "cell_type": "code",
      "execution_count": null,
      "metadata": {
        "colab": {
          "base_uri": "https://localhost:8080/"
        },
        "id": "P3EYRyqvNkb6",
        "outputId": "733e2aa2-442c-471d-8e93-38e6987514b4"
      },
      "outputs": [],
      "source": [
        "df_card = df.select('card_type').distinct()\n",
        "df_card.show(5)\n"
      ]
    },
    {
      "cell_type": "code",
      "execution_count": null,
      "metadata": {
        "colab": {
          "base_uri": "https://localhost:8080/"
        },
        "id": "cesClkbJPqqr",
        "outputId": "63223fe6-b3d7-48e0-e795-e1a83622f3fa"
      },
      "outputs": [],
      "source": [
        "df_card = df_card.select(row_number().over(Window.partitionBy().orderBy('card_type')).alias('card_type_id'), 'card_type')\n",
        "\n",
        "df_card.show(5)"
      ]
    },
    {
      "cell_type": "code",
      "execution_count": null,
      "metadata": {},
      "outputs": [],
      "source": [
        "df_card.count()"
      ]
    },
    {
      "cell_type": "code",
      "execution_count": null,
      "metadata": {
        "colab": {
          "base_uri": "https://localhost:8080/"
        },
        "id": "npOb1-yXQd0R",
        "outputId": "265064a1-f9a6-4fc3-fecf-335949c42410"
      },
      "outputs": [],
      "source": [
        "df_card.printSchema()"
      ]
    },
    {
      "cell_type": "markdown",
      "metadata": {
        "id": "sXHTysSoVuTf"
      },
      "source": [
        "## Creating fact table"
      ]
    },
    {
      "cell_type": "code",
      "execution_count": null,
      "metadata": {
        "id": "vIuWuivdXOQH"
      },
      "outputs": [],
      "source": [
        "# Creating all the views for all dimensions and fact table\n",
        "\n",
        "df_location.createOrReplaceTempView('loc')\n",
        "df_atm.createOrReplaceTempView('atm')\n",
        "df_date.createOrReplaceTempView('date')\n",
        "df_card.createOrReplaceTempView('card')\n",
        "df.createOrReplaceTempView('fact')"
      ]
    },
    {
      "cell_type": "code",
      "execution_count": null,
      "metadata": {
        "colab": {
          "base_uri": "https://localhost:8080/"
        },
        "id": "KDoOhsmbVcgh",
        "outputId": "2d8c22f3-e9ce-4203-a367-0227cb3214a7"
      },
      "outputs": [],
      "source": [
        "# joining with card dimension\n",
        "\n",
        "df_fact = spark.sql(\"select card.card_type_id, fact.* \\\n",
        "                    from fact left join card on fact.card_type = card.card_type\")\n",
        "df_fact.show(5)"
      ]
    },
    {
      "cell_type": "code",
      "execution_count": null,
      "metadata": {
        "id": "EVycqxx6a-tq"
      },
      "outputs": [],
      "source": [
        "# create a view for the fact table based on updated columns after previous join\n",
        "\n",
        "df_fact.createOrReplaceTempView('fact')"
      ]
    },
    {
      "cell_type": "code",
      "execution_count": null,
      "metadata": {
        "colab": {
          "base_uri": "https://localhost:8080/"
        },
        "id": "YhpOOemgc7Ps",
        "outputId": "0e50e5e3-c4c7-4006-a025-8b22afc871da"
      },
      "outputs": [],
      "source": [
        "# join with date dimension\n",
        "\n",
        "df_fact = spark.sql(\"select date.date_id, fact.* from fact left join date on \\\n",
        "                    fact.year = date.year and \\\n",
        "                    fact.month = date.month and \\\n",
        "                    fact.day = date.day and \\\n",
        "                    fact.hour = date.hour and \\\n",
        "                    fact.weekday = date.weekday \")\n",
        "\n",
        "df_fact.show(5)"
      ]
    },
    {
      "cell_type": "code",
      "execution_count": null,
      "metadata": {
        "id": "798PW4dOd890"
      },
      "outputs": [],
      "source": [
        "df_fact.createOrReplaceTempView('fact')"
      ]
    },
    {
      "cell_type": "code",
      "execution_count": null,
      "metadata": {
        "colab": {
          "base_uri": "https://localhost:8080/"
        },
        "id": "LYAIn02te2ql",
        "outputId": "5d2342e1-174f-4b90-bf15-c47ed9ae7625"
      },
      "outputs": [],
      "source": [
        "# join with location dimension\n",
        "\n",
        "df_fact = spark.sql(\"select loc.location_id weather_loc_id, fact.* \\\n",
        "                     from fact left join loc on \\\n",
        "                     fact.atm_location = loc.atm_location and \\\n",
        "                     fact.atm_streetname = loc.atm_streetname and \\\n",
        "                     fact.atm_street_number = loc.atm_street_number and \\\n",
        "                     fact.atm_zipcode = loc.atm_zipcode and \\\n",
        "                     fact.atm_lat = loc.atm_lat and \\\n",
        "                     fact.atm_lon = loc.atm_lon \")\n",
        "\n",
        "df_fact.show(5)"
      ]
    },
    {
      "cell_type": "code",
      "execution_count": null,
      "metadata": {
        "id": "qeLGrI1Uf1ue"
      },
      "outputs": [],
      "source": [
        "df_fact.createOrReplaceTempView('fact')"
      ]
    },
    {
      "cell_type": "code",
      "execution_count": null,
      "metadata": {
        "colab": {
          "base_uri": "https://localhost:8080/"
        },
        "id": "nqMqfYeZf_z6",
        "outputId": "c2e8a33d-49be-4f7f-afa1-ab4edcdff06d"
      },
      "outputs": [],
      "source": [
        "# join with atm dimension\n",
        "# note that atm_id of fact will be mapped to atm_number of atm dimension\n",
        "\n",
        "df_fact = spark.sql(\"select atm.atm_id atm_id_dim, fact.* \\\n",
        "                    from fact left join atm on \\\n",
        "                    fact.atm_id = atm.atm_number and \\\n",
        "                    fact.atm_manufacturer = atm.atm_manufacturer and \\\n",
        "                    fact.weather_loc_id = atm.location_id \")\n",
        "\n",
        "df_fact.show(5)\n"
      ]
    },
    {
      "cell_type": "code",
      "execution_count": null,
      "metadata": {
        "id": "GY_AJwaEhznc"
      },
      "outputs": [],
      "source": [
        "df_fact.createOrReplaceTempView('fact')"
      ]
    },
    {
      "cell_type": "code",
      "execution_count": null,
      "metadata": {
        "colab": {
          "base_uri": "https://localhost:8080/"
        },
        "id": "ZLqzbi5eivbW",
        "outputId": "5342c7cd-5b98-4f4c-ea39-7b6949c9facd"
      },
      "outputs": [],
      "source": [
        "# selecting only the relevant columns in fact table\n",
        "\n",
        "df_fact = df_fact.select(row_number().over(Window.partitionBy().orderBy('date_id','atm_id_dim','weather_loc_id','card_type_id')).alias('trans_id'),\n",
        "                         col('atm_id_dim').alias('atm_id'),\n",
        "                         'weather_loc_id','date_id', 'card_type_id', 'atm_status', 'currency','service', 'transaction_amount',\n",
        "                         'message_code','message_text','rain_3h','clouds_all','weather_id','weather_main', 'weather_description'\n",
        "                         )\n",
        "\n",
        "df_fact.show(5)\n"
      ]
    },
    {
      "cell_type": "code",
      "execution_count": null,
      "metadata": {
        "id": "MugpWYY7rf58"
      },
      "outputs": [],
      "source": [
        "df_fact.createOrReplaceTempView('fact')"
      ]
    },
    {
      "cell_type": "code",
      "execution_count": null,
      "metadata": {},
      "outputs": [],
      "source": [
        "df_fact.count()"
      ]
    },
    {
      "cell_type": "code",
      "execution_count": null,
      "metadata": {
        "colab": {
          "base_uri": "https://localhost:8080/"
        },
        "id": "ZN3-AI6Ol6wJ",
        "outputId": "bf41f309-e9ab-405f-d11a-a318adb5f1f7"
      },
      "outputs": [],
      "source": [
        "df_fact.printSchema()"
      ]
    },
    {
      "cell_type": "markdown",
      "metadata": {
        "id": "9FvI1xzwris4"
      },
      "source": [
        "## Writing tables in S3"
      ]
    },
    {
      "cell_type": "code",
      "execution_count": null,
      "metadata": {
        "id": "GkyZTkhSq4-K"
      },
      "outputs": [],
      "source": [
        "dim_atm_path = \"s3://atm-data-model/DIM_ATM/\" \n",
        "\n",
        "# Write atm dimension to S3 in CSV format\n",
        "df_atm.write \\\n",
        "    .format(\"csv\") \\\n",
        "    .option(\"header\", \"true\") \\\n",
        "    .mode(\"overwrite\") \\\n",
        "    .save(dim_atm_path)"
      ]
    },
    {
      "cell_type": "code",
      "execution_count": null,
      "metadata": {},
      "outputs": [],
      "source": [
        "dim_date_path = \"s3://atm-data-model/DIM_DATE/\" \n",
        "\n",
        "# Write date dimension to S3 in CSV format\n",
        "df_date.write \\\n",
        "    .format(\"csv\") \\\n",
        "    .option(\"header\", \"true\") \\\n",
        "    .mode(\"overwrite\") \\\n",
        "    .save(dim_date_path)"
      ]
    },
    {
      "cell_type": "code",
      "execution_count": null,
      "metadata": {},
      "outputs": [],
      "source": [
        "dim_card_path = \"s3://atm-data-model/DIM_CARD_TYPE/\" \n",
        "\n",
        "# Write card dimension to S3 in CSV format\n",
        "df_card.write \\\n",
        "    .format(\"csv\") \\\n",
        "    .option(\"header\", \"true\") \\\n",
        "    .mode(\"overwrite\") \\\n",
        "    .save(dim_card_path)"
      ]
    },
    {
      "cell_type": "code",
      "execution_count": null,
      "metadata": {},
      "outputs": [],
      "source": [
        "dim_location_path = \"s3://atm-data-model/DIM_LOCATION/\" \n",
        "\n",
        "# Write location dimension to S3 in CSV format\n",
        "df_location.write \\\n",
        "    .format(\"csv\") \\\n",
        "    .option(\"header\", \"true\") \\\n",
        "    .mode(\"overwrite\") \\\n",
        "    .save(dim_location_path)"
      ]
    },
    {
      "cell_type": "code",
      "execution_count": null,
      "metadata": {},
      "outputs": [],
      "source": [
        "fact_path = \"s3://atm-data-model/FACT_ATM_TRANS/\" \n",
        "\n",
        "# Write fact table to S3 in CSV format\n",
        "df_fact.write \\\n",
        "    .format(\"csv\") \\\n",
        "    .option(\"header\", \"true\") \\\n",
        "    .mode(\"overwrite\") \\\n",
        "    .save(fact_path)"
      ]
    }
  ],
  "metadata": {
    "colab": {
      "provenance": []
    },
    "kernelspec": {
      "display_name": "Python 3",
      "name": "python3"
    },
    "language_info": {
      "name": "python"
    }
  },
  "nbformat": 4,
  "nbformat_minor": 0
}
