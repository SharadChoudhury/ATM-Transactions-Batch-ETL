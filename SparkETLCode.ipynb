{
 "cells": [
  {
   "cell_type": "code",
   "execution_count": 1,
   "metadata": {},
   "outputs": [
    {
     "name": "stdout",
     "output_type": "stream",
     "text": [
      "Starting Spark application\n"
     ]
    },
    {
     "data": {
      "text/html": [
       "<table>\n",
       "<tr><th>ID</th><th>YARN Application ID</th><th>Kind</th><th>State</th><th>Spark UI</th><th>Driver log</th><th>Current session?</th></tr><tr><td>0</td><td>application_1695351396101_0002</td><td>pyspark</td><td>idle</td><td><a target=\"_blank\" href=\"http://ip-172-31-82-122.ec2.internal:20888/proxy/application_1695351396101_0002/\">Link</a></td><td><a target=\"_blank\" href=\"http://ip-172-31-82-122.ec2.internal:8042/node/containerlogs/container_1695351396101_0002_01_000001/livy\">Link</a></td><td>✔</td></tr></table>"
      ],
      "text/plain": [
       "<IPython.core.display.HTML object>"
      ]
     },
     "metadata": {},
     "output_type": "display_data"
    },
    {
     "data": {
      "application/vnd.jupyter.widget-view+json": {
       "model_id": "",
       "version_major": 2,
       "version_minor": 0
      },
      "text/plain": [
       "FloatProgress(value=0.0, bar_style='info', description='Progress:', layout=Layout(height='25px', width='50%'),…"
      ]
     },
     "metadata": {},
     "output_type": "display_data"
    },
    {
     "name": "stdout",
     "output_type": "stream",
     "text": [
      "SparkSession available as 'spark'.\n"
     ]
    },
    {
     "data": {
      "application/vnd.jupyter.widget-view+json": {
       "model_id": "",
       "version_major": 2,
       "version_minor": 0
      },
      "text/plain": [
       "FloatProgress(value=0.0, bar_style='info', description='Progress:', layout=Layout(height='25px', width='50%'),…"
      ]
     },
     "metadata": {},
     "output_type": "display_data"
    },
    {
     "name": "stdout",
     "output_type": "stream",
     "text": [
      "<SparkContext master=yarn appName=livy-session-0>"
     ]
    }
   ],
   "source": [
    "sc"
   ]
  },
  {
   "cell_type": "code",
   "execution_count": 2,
   "metadata": {},
   "outputs": [
    {
     "data": {
      "application/vnd.jupyter.widget-view+json": {
       "model_id": "",
       "version_major": 2,
       "version_minor": 0
      },
      "text/plain": [
       "FloatProgress(value=0.0, bar_style='info', description='Progress:', layout=Layout(height='25px', width='50%'),…"
      ]
     },
     "metadata": {},
     "output_type": "display_data"
    },
    {
     "name": "stdout",
     "output_type": "stream",
     "text": [
      "<pyspark.sql.session.SparkSession object at 0x7f60c39d6510>"
     ]
    }
   ],
   "source": [
    "spark"
   ]
  },
  {
   "cell_type": "code",
   "execution_count": 3,
   "metadata": {},
   "outputs": [
    {
     "data": {
      "application/vnd.jupyter.widget-view+json": {
       "model_id": "",
       "version_major": 2,
       "version_minor": 0
      },
      "text/plain": [
       "FloatProgress(value=0.0, bar_style='info', description='Progress:', layout=Layout(height='25px', width='50%'),…"
      ]
     },
     "metadata": {},
     "output_type": "display_data"
    }
   ],
   "source": [
    "from pyspark.sql.types import *\n",
    "from pyspark.sql.window import Window\n",
    "from pyspark.sql.functions import *"
   ]
  },
  {
   "cell_type": "code",
   "execution_count": 4,
   "metadata": {},
   "outputs": [
    {
     "data": {
      "application/vnd.jupyter.widget-view+json": {
       "model_id": "",
       "version_major": 2,
       "version_minor": 0
      },
      "text/plain": [
       "FloatProgress(value=0.0, bar_style='info', description='Progress:', layout=Layout(height='25px', width='50%'),…"
      ]
     },
     "metadata": {},
     "output_type": "display_data"
    }
   ],
   "source": [
    "# creating custom schema\n",
    "\n",
    "schema = StructType([\n",
    "    StructField(\"year\", IntegerType(), True),\n",
    "    StructField(\"month\", StringType(), True),\n",
    "    StructField(\"day\", IntegerType(), True),\n",
    "    StructField(\"weekday\", StringType(), True),\n",
    "    StructField(\"hour\", IntegerType(), True),\n",
    "    StructField(\"atm_status\", StringType(), True),\n",
    "    StructField(\"atm_id\", StringType(), True),\n",
    "    StructField(\"atm_manufacturer\", StringType(), True),\n",
    "    StructField(\"atm_location\", StringType(), True),\n",
    "    StructField(\"atm_streetname\", StringType(), True),\n",
    "    StructField(\"atm_street_number\", IntegerType(), True),\n",
    "    StructField(\"atm_zipcode\", IntegerType(), True),\n",
    "    StructField(\"atm_lat\", DoubleType(), True),\n",
    "    StructField(\"atm_lon\", DoubleType(), True),\n",
    "    StructField(\"currency\", StringType(), True),\n",
    "    StructField(\"card_type\", StringType(), True),\n",
    "    StructField(\"transaction_amount\", IntegerType(), True),\n",
    "    StructField(\"service\", StringType(), True),\n",
    "    StructField(\"message_code\", StringType(), True),\n",
    "    StructField(\"message_text\", StringType(), True),\n",
    "    StructField(\"weather_lat\", DoubleType(), True),\n",
    "    StructField(\"weather_lon\", DoubleType(), True),\n",
    "    StructField(\"weather_city_id\", IntegerType(), True),\n",
    "    StructField(\"weather_city_name\", StringType(), True),\n",
    "    StructField(\"temp\", DoubleType(), True),\n",
    "    StructField(\"pressure\", IntegerType(), True),\n",
    "    StructField(\"humidity\", IntegerType(), True),\n",
    "    StructField(\"wind_speed\", IntegerType(), True),\n",
    "    StructField(\"wind_deg\", IntegerType(), True),\n",
    "    StructField(\"rain_3h\", DoubleType(), True),\n",
    "    StructField(\"clouds_all\", IntegerType(), True),\n",
    "    StructField(\"weather_id\", IntegerType(), True),\n",
    "    StructField(\"weather_main\", StringType(), True),\n",
    "    StructField(\"weather_description\", StringType(), True)\n",
    "])"
   ]
  },
  {
   "cell_type": "code",
   "execution_count": 5,
   "metadata": {},
   "outputs": [
    {
     "data": {
      "application/vnd.jupyter.widget-view+json": {
       "model_id": "",
       "version_major": 2,
       "version_minor": 0
      },
      "text/plain": [
       "FloatProgress(value=0.0, bar_style='info', description='Progress:', layout=Layout(height='25px', width='50%'),…"
      ]
     },
     "metadata": {},
     "output_type": "display_data"
    },
    {
     "name": "stdout",
     "output_type": "stream",
     "text": [
      "+----+-------+---+-------+----+----------+------+----------------+------------+--------------+-----------------+-----------+-------+-------+--------+----------+------------------+----------+------------+------------+-----------+-----------+---------------+-----------------+------+--------+--------+----------+--------+-------+----------+----------+------------+-------------------+\n",
      "|year|  month|day|weekday|hour|atm_status|atm_id|atm_manufacturer|atm_location|atm_streetname|atm_street_number|atm_zipcode|atm_lat|atm_lon|currency| card_type|transaction_amount|   service|message_code|message_text|weather_lat|weather_lon|weather_city_id|weather_city_name|  temp|pressure|humidity|wind_speed|wind_deg|rain_3h|clouds_all|weather_id|weather_main|weather_description|\n",
      "+----+-------+---+-------+----+----------+------+----------------+------------+--------------+-----------------+-----------+-------+-------+--------+----------+------------------+----------+------------+------------+-----------+-----------+---------------+-----------------+------+--------+--------+----------+--------+-------+----------+----------+------------+-------------------+\n",
      "|2017|January|  1| Sunday|   0|    Active|     1|             NCR|  NÃƒÂ¦stved|   Farimagsvej|                8|       4700| 55.233| 11.763|     DKK|MasterCard|              5643|Withdrawal|        null|        null|      55.23|     11.761|        2616038|         Naestved|281.15|    1014|      87|         7|     260|  0.215|        92|       500|        Rain|         light rain|\n",
      "|2017|January|  1| Sunday|   0|  Inactive|     2|             NCR|    Vejgaard|    Hadsundvej|               20|       9000| 57.043|   9.95|     DKK|MasterCard|              1764|Withdrawal|        null|        null|     57.048|      9.935|        2616235|   NÃƒÂ¸rresundby|280.64|    1020|      93|         9|     250|   0.59|        92|       500|        Rain|         light rain|\n",
      "+----+-------+---+-------+----+----------+------+----------------+------------+--------------+-----------------+-----------+-------+-------+--------+----------+------------------+----------+------------+------------+-----------+-----------+---------------+-----------------+------+--------+--------+----------+--------+-------+----------+----------+------------+-------------------+\n",
      "only showing top 2 rows"
     ]
    }
   ],
   "source": [
    "# reading the data from HDFS\n",
    "\n",
    "df = spark.read \\\n",
    "    .format(\"csv\") \\\n",
    "    .option(\"header\", \"false\") \\\n",
    "    .schema(schema) \\\n",
    "    .load(\"data/\", sep='|')\n",
    "\n",
    "\n",
    "df.show(2)"
   ]
  },
  {
   "cell_type": "code",
   "execution_count": 6,
   "metadata": {},
   "outputs": [
    {
     "data": {
      "application/vnd.jupyter.widget-view+json": {
       "model_id": "",
       "version_major": 2,
       "version_minor": 0
      },
      "text/plain": [
       "FloatProgress(value=0.0, bar_style='info', description='Progress:', layout=Layout(height='25px', width='50%'),…"
      ]
     },
     "metadata": {},
     "output_type": "display_data"
    },
    {
     "name": "stdout",
     "output_type": "stream",
     "text": [
      "2468572"
     ]
    }
   ],
   "source": [
    "# verify count of total records \n",
    "df.count()"
   ]
  },
  {
   "cell_type": "code",
   "execution_count": 7,
   "metadata": {},
   "outputs": [
    {
     "data": {
      "application/vnd.jupyter.widget-view+json": {
       "model_id": "",
       "version_major": 2,
       "version_minor": 0
      },
      "text/plain": [
       "FloatProgress(value=0.0, bar_style='info', description='Progress:', layout=Layout(height='25px', width='50%'),…"
      ]
     },
     "metadata": {},
     "output_type": "display_data"
    },
    {
     "name": "stdout",
     "output_type": "stream",
     "text": [
      "4"
     ]
    }
   ],
   "source": [
    "df.rdd.getNumPartitions()"
   ]
  },
  {
   "cell_type": "code",
   "execution_count": 8,
   "metadata": {},
   "outputs": [
    {
     "data": {
      "application/vnd.jupyter.widget-view+json": {
       "model_id": "",
       "version_major": 2,
       "version_minor": 0
      },
      "text/plain": [
       "FloatProgress(value=0.0, bar_style='info', description='Progress:', layout=Layout(height='25px', width='50%'),…"
      ]
     },
     "metadata": {},
     "output_type": "display_data"
    },
    {
     "name": "stdout",
     "output_type": "stream",
     "text": [
      "root\n",
      " |-- year: integer (nullable = true)\n",
      " |-- month: string (nullable = true)\n",
      " |-- day: integer (nullable = true)\n",
      " |-- weekday: string (nullable = true)\n",
      " |-- hour: integer (nullable = true)\n",
      " |-- atm_status: string (nullable = true)\n",
      " |-- atm_id: string (nullable = true)\n",
      " |-- atm_manufacturer: string (nullable = true)\n",
      " |-- atm_location: string (nullable = true)\n",
      " |-- atm_streetname: string (nullable = true)\n",
      " |-- atm_street_number: integer (nullable = true)\n",
      " |-- atm_zipcode: integer (nullable = true)\n",
      " |-- atm_lat: double (nullable = true)\n",
      " |-- atm_lon: double (nullable = true)\n",
      " |-- currency: string (nullable = true)\n",
      " |-- card_type: string (nullable = true)\n",
      " |-- transaction_amount: integer (nullable = true)\n",
      " |-- service: string (nullable = true)\n",
      " |-- message_code: string (nullable = true)\n",
      " |-- message_text: string (nullable = true)\n",
      " |-- weather_lat: double (nullable = true)\n",
      " |-- weather_lon: double (nullable = true)\n",
      " |-- weather_city_id: integer (nullable = true)\n",
      " |-- weather_city_name: string (nullable = true)\n",
      " |-- temp: double (nullable = true)\n",
      " |-- pressure: integer (nullable = true)\n",
      " |-- humidity: integer (nullable = true)\n",
      " |-- wind_speed: integer (nullable = true)\n",
      " |-- wind_deg: integer (nullable = true)\n",
      " |-- rain_3h: double (nullable = true)\n",
      " |-- clouds_all: integer (nullable = true)\n",
      " |-- weather_id: integer (nullable = true)\n",
      " |-- weather_main: string (nullable = true)\n",
      " |-- weather_description: string (nullable = true)"
     ]
    }
   ],
   "source": [
    "# check if the schema is correct\n",
    "df.printSchema()"
   ]
  },
  {
   "cell_type": "markdown",
   "metadata": {},
   "source": [
    "## Creating Location dimension"
   ]
  },
  {
   "cell_type": "code",
   "execution_count": 9,
   "metadata": {},
   "outputs": [
    {
     "data": {
      "application/vnd.jupyter.widget-view+json": {
       "model_id": "",
       "version_major": 2,
       "version_minor": 0
      },
      "text/plain": [
       "FloatProgress(value=0.0, bar_style='info', description='Progress:', layout=Layout(height='25px', width='50%'),…"
      ]
     },
     "metadata": {},
     "output_type": "display_data"
    }
   ],
   "source": [
    "# select only distinct records in all dimension tables.\n",
    "df_location = df.select('atm_location','atm_streetname','atm_street_number','atm_zipcode','atm_lat','atm_lon').distinct()\n"
   ]
  },
  {
   "cell_type": "code",
   "execution_count": 10,
   "metadata": {},
   "outputs": [
    {
     "data": {
      "application/vnd.jupyter.widget-view+json": {
       "model_id": "",
       "version_major": 2,
       "version_minor": 0
      },
      "text/plain": [
       "FloatProgress(value=0.0, bar_style='info', description='Progress:', layout=Layout(height='25px', width='50%'),…"
      ]
     },
     "metadata": {},
     "output_type": "display_data"
    },
    {
     "name": "stdout",
     "output_type": "stream",
     "text": [
      "+----------------+-------------------+-----------------+-----------+-------+-------+\n",
      "|    atm_location|     atm_streetname|atm_street_number|atm_zipcode|atm_lat|atm_lon|\n",
      "+----------------+-------------------+-----------------+-----------+-------+-------+\n",
      "|         Kolding|           Vejlevej|              135|       6000| 55.505|  9.457|\n",
      "|  Skelagervej 15|        Skelagervej|               15|       9000| 57.023|  9.891|\n",
      "|Intern HolbÃƒÂ¦k|        Slotsvolden|                7|       4300| 55.718| 11.704|\n",
      "|          Odense|       FÃƒÂ¦lledvej|                3|       5000| 55.394|  10.37|\n",
      "|           Ikast|RÃƒÂ¥dhusstrÃƒÂ¦det|               12|       7430| 56.139|  9.154|\n",
      "+----------------+-------------------+-----------------+-----------+-------+-------+\n",
      "only showing top 5 rows"
     ]
    }
   ],
   "source": [
    "df_location.show(5)"
   ]
  },
  {
   "cell_type": "code",
   "execution_count": 11,
   "metadata": {},
   "outputs": [
    {
     "data": {
      "application/vnd.jupyter.widget-view+json": {
       "model_id": "",
       "version_major": 2,
       "version_minor": 0
      },
      "text/plain": [
       "FloatProgress(value=0.0, bar_style='info', description='Progress:', layout=Layout(height='25px', width='50%'),…"
      ]
     },
     "metadata": {},
     "output_type": "display_data"
    },
    {
     "name": "stdout",
     "output_type": "stream",
     "text": [
      "109"
     ]
    }
   ],
   "source": [
    "df_location.count()"
   ]
  },
  {
   "cell_type": "code",
   "execution_count": 12,
   "metadata": {},
   "outputs": [
    {
     "data": {
      "application/vnd.jupyter.widget-view+json": {
       "model_id": "",
       "version_major": 2,
       "version_minor": 0
      },
      "text/plain": [
       "FloatProgress(value=0.0, bar_style='info', description='Progress:', layout=Layout(height='25px', width='50%'),…"
      ]
     },
     "metadata": {},
     "output_type": "display_data"
    },
    {
     "name": "stdout",
     "output_type": "stream",
     "text": [
      "+----------------+-------------------+-----------------+-----------+-------+-------+\n",
      "|    atm_location|     atm_streetname|atm_street_number|atm_zipcode|atm_lat|atm_lon|\n",
      "+----------------+-------------------+-----------------+-----------+-------+-------+\n",
      "|         Kolding|           Vejlevej|              135|       6000| 55.505|  9.457|\n",
      "|  Skelagervej 15|        Skelagervej|               15|       9000| 57.023|  9.891|\n",
      "|Intern HolbÃƒÂ¦k|        Slotsvolden|                7|       4300| 55.718| 11.704|\n",
      "|          Odense|       FÃƒÂ¦lledvej|                3|       5000| 55.394|  10.37|\n",
      "|           Ikast|RÃƒÂ¥dhusstrÃƒÂ¦det|               12|       7430| 56.139|  9.154|\n",
      "+----------------+-------------------+-----------------+-----------+-------+-------+\n",
      "only showing top 5 rows"
     ]
    }
   ],
   "source": [
    "df_location.select('*').show(5)"
   ]
  },
  {
   "cell_type": "code",
   "execution_count": 13,
   "metadata": {},
   "outputs": [
    {
     "data": {
      "application/vnd.jupyter.widget-view+json": {
       "model_id": "",
       "version_major": 2,
       "version_minor": 0
      },
      "text/plain": [
       "FloatProgress(value=0.0, bar_style='info', description='Progress:', layout=Layout(height='25px', width='50%'),…"
      ]
     },
     "metadata": {},
     "output_type": "display_data"
    }
   ],
   "source": [
    "# creating a primary key 'location_id' based on row_number\n",
    "\n",
    "window_spec = Window.partitionBy().orderBy(df_location['atm_location'])\n",
    "df_location = df_location.select(row_number().over(window_spec).alias('location_id'), '*')\n"
   ]
  },
  {
   "cell_type": "code",
   "execution_count": 14,
   "metadata": {},
   "outputs": [
    {
     "data": {
      "application/vnd.jupyter.widget-view+json": {
       "model_id": "",
       "version_major": 2,
       "version_minor": 0
      },
      "text/plain": [
       "FloatProgress(value=0.0, bar_style='info', description='Progress:', layout=Layout(height='25px', width='50%'),…"
      ]
     },
     "metadata": {},
     "output_type": "display_data"
    },
    {
     "name": "stdout",
     "output_type": "stream",
     "text": [
      "+-----------+--------------------+---------------+-----------------+-----------+-------+-------+\n",
      "|location_id|        atm_location| atm_streetname|atm_street_number|atm_zipcode|atm_lat|atm_lon|\n",
      "+-----------+--------------------+---------------+-----------------+-----------+-------+-------+\n",
      "|          1|             Aabybro|   ÃƒËœstergade|                6|       9440| 57.162|   9.73|\n",
      "|          2|      Aalborg Hallen|   Europa Plads|                4|       9000| 57.044|  9.913|\n",
      "|          3|Aalborg Storcente...|       Hobrovej|              452|       9200| 57.005|  9.876|\n",
      "|          4|Aalborg Storcente...|       Hobrovej|              452|       9200| 57.005|  9.876|\n",
      "|          5|         Aalborg Syd|       Hobrovej|              440|       9200| 57.005|  9.881|\n",
      "|          6|           AalbÃƒÂ¦k|     Centralvej|                5|       9982| 57.593| 10.412|\n",
      "|          7|              Aarhus| SÃƒÂ¸nder Alle|               11|       8000| 56.153| 10.206|\n",
      "|          8|              Aarhus|     Ceres Byen|               75|       8000| 56.157| 10.194|\n",
      "|          9|     Aarhus Lufthavn|Ny Lufthavnsvej|               24|       8560| 56.308| 10.627|\n",
      "|         10|                Aars|Himmerlandsgade|               70|       9600| 56.803|  9.518|\n",
      "+-----------+--------------------+---------------+-----------------+-----------+-------+-------+\n",
      "only showing top 10 rows"
     ]
    }
   ],
   "source": [
    "df_location.show(10)"
   ]
  },
  {
   "cell_type": "code",
   "execution_count": 15,
   "metadata": {},
   "outputs": [
    {
     "data": {
      "application/vnd.jupyter.widget-view+json": {
       "model_id": "",
       "version_major": 2,
       "version_minor": 0
      },
      "text/plain": [
       "FloatProgress(value=0.0, bar_style='info', description='Progress:', layout=Layout(height='25px', width='50%'),…"
      ]
     },
     "metadata": {},
     "output_type": "display_data"
    },
    {
     "name": "stdout",
     "output_type": "stream",
     "text": [
      "109"
     ]
    }
   ],
   "source": [
    "df_location.count()"
   ]
  },
  {
   "cell_type": "code",
   "execution_count": 16,
   "metadata": {},
   "outputs": [
    {
     "data": {
      "application/vnd.jupyter.widget-view+json": {
       "model_id": "",
       "version_major": 2,
       "version_minor": 0
      },
      "text/plain": [
       "FloatProgress(value=0.0, bar_style='info', description='Progress:', layout=Layout(height='25px', width='50%'),…"
      ]
     },
     "metadata": {},
     "output_type": "display_data"
    },
    {
     "name": "stdout",
     "output_type": "stream",
     "text": [
      "+-----------+--------------------+------------------+-----------------+-----------+-------+-------+\n",
      "|location_id|        atm_location|    atm_streetname|atm_street_number|atm_zipcode|atm_lat|atm_lon|\n",
      "+-----------+--------------------+------------------+-----------------+-----------+-------+-------+\n",
      "|          1|             Aabybro|      ÃƒËœstergade|                6|       9440| 57.162|   9.73|\n",
      "|          2|      Aalborg Hallen|      Europa Plads|                4|       9000| 57.044|  9.913|\n",
      "|          3|Aalborg Storcente...|          Hobrovej|              452|       9200| 57.005|  9.876|\n",
      "|          4|Aalborg Storcente...|          Hobrovej|              452|       9200| 57.005|  9.876|\n",
      "|          5|         Aalborg Syd|          Hobrovej|              440|       9200| 57.005|  9.881|\n",
      "|          6|           AalbÃƒÂ¦k|        Centralvej|                5|       9982| 57.593| 10.412|\n",
      "|          7|              Aarhus|    SÃƒÂ¸nder Alle|               11|       8000| 56.153| 10.206|\n",
      "|          8|              Aarhus|        Ceres Byen|               75|       8000| 56.157| 10.194|\n",
      "|          9|     Aarhus Lufthavn|   Ny Lufthavnsvej|               24|       8560| 56.308| 10.627|\n",
      "|         10|                Aars|   Himmerlandsgade|               70|       9600| 56.803|  9.518|\n",
      "|         11|          Abildgaard|    HjÃƒÂ¸rringvej|              144|       9900| 57.447| 10.506|\n",
      "|         12|               Arden|        Vestergade|                6|       9510| 56.769|  9.859|\n",
      "|         13|            Bindslev|       NÃƒÂ¸rrebro|               18|       9881| 57.541|   10.2|\n",
      "|         14|         Bispensgade|       Bispensgade|               35|       9800| 57.453|  9.996|\n",
      "|         15|         Brugsen ANS|SÃƒÂ¸ndermarksgade|               14|       8643| 56.306|  9.594|\n",
      "|         16|     Brugsen i Breum|     AakjÃƒÂ¦rsvej|                1|       7870| 56.688|  9.069|\n",
      "|         17|      Bryggen  Vejle|  SÃƒÂ¸nderbrogade|                2|       7100| 55.705|  9.532|\n",
      "|         18|      BrÃƒÂ¸nderslev|            Algade|                4|       9700| 57.269|  9.945|\n",
      "|         19|    DAYZ Feriecenter|        LivÃƒÂ¸vej|               80|       9681| 56.893|  9.171|\n",
      "|         20|Daglig Brugsen Ãƒ...|         Kystvejen|               51|       9560| 56.804| 10.271|\n",
      "+-----------+--------------------+------------------+-----------------+-----------+-------+-------+\n",
      "only showing top 20 rows"
     ]
    }
   ],
   "source": [
    "df_location.show()"
   ]
  },
  {
   "cell_type": "code",
   "execution_count": 17,
   "metadata": {},
   "outputs": [
    {
     "data": {
      "application/vnd.jupyter.widget-view+json": {
       "model_id": "",
       "version_major": 2,
       "version_minor": 0
      },
      "text/plain": [
       "FloatProgress(value=0.0, bar_style='info', description='Progress:', layout=Layout(height='25px', width='50%'),…"
      ]
     },
     "metadata": {},
     "output_type": "display_data"
    },
    {
     "name": "stdout",
     "output_type": "stream",
     "text": [
      "root\n",
      " |-- location_id: integer (nullable = true)\n",
      " |-- atm_location: string (nullable = true)\n",
      " |-- atm_streetname: string (nullable = true)\n",
      " |-- atm_street_number: integer (nullable = true)\n",
      " |-- atm_zipcode: integer (nullable = true)\n",
      " |-- atm_lat: double (nullable = true)\n",
      " |-- atm_lon: double (nullable = true)"
     ]
    }
   ],
   "source": [
    "df_location.printSchema()"
   ]
  },
  {
   "cell_type": "markdown",
   "metadata": {},
   "source": [
    "## Creating ATM dimension"
   ]
  },
  {
   "cell_type": "code",
   "execution_count": 18,
   "metadata": {},
   "outputs": [
    {
     "data": {
      "application/vnd.jupyter.widget-view+json": {
       "model_id": "",
       "version_major": 2,
       "version_minor": 0
      },
      "text/plain": [
       "FloatProgress(value=0.0, bar_style='info', description='Progress:', layout=Layout(height='25px', width='50%'),…"
      ]
     },
     "metadata": {},
     "output_type": "display_data"
    },
    {
     "name": "stdout",
     "output_type": "stream",
     "text": [
      "113"
     ]
    }
   ],
   "source": [
    "# Also select the columns 'atm_location','atm_streetname','atm_street_number','atm_zipcode','atm_lat','atm_lon' to join\n",
    "# the table with location table using these columns to fetch the location_id\n",
    "\n",
    "df_atm = df.select('atm_id','atm_manufacturer','atm_location','atm_streetname',\n",
    "                   'atm_street_number', 'atm_zipcode','atm_lat','atm_lon').distinct()\n",
    "df_atm.count()\n"
   ]
  },
  {
   "cell_type": "code",
   "execution_count": 19,
   "metadata": {},
   "outputs": [
    {
     "data": {
      "application/vnd.jupyter.widget-view+json": {
       "model_id": "",
       "version_major": 2,
       "version_minor": 0
      },
      "text/plain": [
       "FloatProgress(value=0.0, bar_style='info', description='Progress:', layout=Layout(height='25px', width='50%'),…"
      ]
     },
     "metadata": {},
     "output_type": "display_data"
    },
    {
     "name": "stdout",
     "output_type": "stream",
     "text": [
      "+------+----------------+--------------------+-----------------+-----------------+-----------+-------+-------+\n",
      "|atm_id|atm_manufacturer|        atm_location|   atm_streetname|atm_street_number|atm_zipcode|atm_lat|atm_lon|\n",
      "+------+----------------+--------------------+-----------------+-----------------+-----------+-------+-------+\n",
      "|    59| Diebold Nixdorf|NykÃƒÂ¸bing Mors ...|      Kirketorvet|                1|       7900| 56.795|   8.86|\n",
      "|    41| Diebold Nixdorf|              Skagen|Sct. Laurentiivej|               36|       9990| 57.723|  10.59|\n",
      "|    40| Diebold Nixdorf|       Frederikshavn|     Danmarksgade|               48|       9900| 57.441| 10.537|\n",
      "|    87|             NCR|Aalborg Storcente...|         Hobrovej|              452|       9200| 57.005|  9.876|\n",
      "|    31|             NCR|            Slagelse|  Mariendals Alle|               29|       4200| 55.398| 11.342|\n",
      "+------+----------------+--------------------+-----------------+-----------------+-----------+-------+-------+\n",
      "only showing top 5 rows"
     ]
    }
   ],
   "source": [
    "df_atm.show(5)"
   ]
  },
  {
   "cell_type": "code",
   "execution_count": 20,
   "metadata": {},
   "outputs": [
    {
     "data": {
      "application/vnd.jupyter.widget-view+json": {
       "model_id": "",
       "version_major": 2,
       "version_minor": 0
      },
      "text/plain": [
       "FloatProgress(value=0.0, bar_style='info', description='Progress:', layout=Layout(height='25px', width='50%'),…"
      ]
     },
     "metadata": {},
     "output_type": "display_data"
    }
   ],
   "source": [
    "# creating views for atm and location dimension to join them using sql and create foreign key location_id\n",
    "# in atm table based on location table primary key\n",
    "\n",
    "df_atm.createOrReplaceTempView('atm')\n",
    "df_location.createOrReplaceTempView('loc')"
   ]
  },
  {
   "cell_type": "code",
   "execution_count": 21,
   "metadata": {},
   "outputs": [
    {
     "data": {
      "application/vnd.jupyter.widget-view+json": {
       "model_id": "",
       "version_major": 2,
       "version_minor": 0
      },
      "text/plain": [
       "FloatProgress(value=0.0, bar_style='info', description='Progress:', layout=Layout(height='25px', width='50%'),…"
      ]
     },
     "metadata": {},
     "output_type": "display_data"
    },
    {
     "name": "stdout",
     "output_type": "stream",
     "text": [
      "+------+----------------+-----------+\n",
      "|atm_id|atm_manufacturer|location_id|\n",
      "+------+----------------+-----------+\n",
      "|    40| Diebold Nixdorf|         27|\n",
      "|    41| Diebold Nixdorf|         82|\n",
      "|    59| Diebold Nixdorf|         73|\n",
      "|    97|             NCR|         51|\n",
      "|    19|             NCR|         62|\n",
      "|    31|             NCR|         89|\n",
      "|    87|             NCR|          4|\n",
      "|    74|             NCR|         61|\n",
      "|    56| Diebold Nixdorf|         64|\n",
      "|    51|             NCR|         29|\n",
      "+------+----------------+-----------+\n",
      "only showing top 10 rows"
     ]
    }
   ],
   "source": [
    "# joining on atm_location to fetch the location_id from location dimension.\n",
    "# doing left join to fetch the location_id for each atm_id\n",
    "# joining is possible on atm_location as atm_location\n",
    "\n",
    "df_atm = spark.sql(\" select atm.atm_id, atm.atm_manufacturer, loc.location_id \\\n",
    "                     from atm left join loc on \\\n",
    "                     atm.atm_location = loc.atm_location and \\\n",
    "                     atm.atm_streetname = loc.atm_streetname and \\\n",
    "                     atm.atm_street_number = loc.atm_street_number and \\\n",
    "                     atm.atm_zipcode = loc.atm_zipcode and \\\n",
    "                     atm.atm_lat = loc.atm_lat and \\\n",
    "                     atm.atm_lon = loc.atm_lon \")\n",
    "\n",
    "df_atm.show(10)"
   ]
  },
  {
   "cell_type": "code",
   "execution_count": 22,
   "metadata": {},
   "outputs": [
    {
     "data": {
      "application/vnd.jupyter.widget-view+json": {
       "model_id": "",
       "version_major": 2,
       "version_minor": 0
      },
      "text/plain": [
       "FloatProgress(value=0.0, bar_style='info', description='Progress:', layout=Layout(height='25px', width='50%'),…"
      ]
     },
     "metadata": {},
     "output_type": "display_data"
    },
    {
     "name": "stdout",
     "output_type": "stream",
     "text": [
      "113"
     ]
    }
   ],
   "source": [
    "df_atm.count()"
   ]
  },
  {
   "cell_type": "code",
   "execution_count": 23,
   "metadata": {},
   "outputs": [
    {
     "data": {
      "application/vnd.jupyter.widget-view+json": {
       "model_id": "",
       "version_major": 2,
       "version_minor": 0
      },
      "text/plain": [
       "FloatProgress(value=0.0, bar_style='info', description='Progress:', layout=Layout(height='25px', width='50%'),…"
      ]
     },
     "metadata": {},
     "output_type": "display_data"
    }
   ],
   "source": [
    "# atm_id in fact table should be atm_number as per the atm schema\n",
    "# and atm_id in atm schema should be the primary key generated using row_number\n",
    "\n",
    "window_spec = Window.partitionBy().orderBy(df_atm['atm_id'])\n",
    "df_atm = df_atm.select(row_number().over(window_spec).alias('atm_id'),\n",
    "                       col('atm_id').alias('atm_number'),\n",
    "                       'atm_manufacturer', 'location_id')\n"
   ]
  },
  {
   "cell_type": "code",
   "execution_count": 24,
   "metadata": {},
   "outputs": [
    {
     "data": {
      "application/vnd.jupyter.widget-view+json": {
       "model_id": "",
       "version_major": 2,
       "version_minor": 0
      },
      "text/plain": [
       "FloatProgress(value=0.0, bar_style='info', description='Progress:', layout=Layout(height='25px', width='50%'),…"
      ]
     },
     "metadata": {},
     "output_type": "display_data"
    },
    {
     "name": "stdout",
     "output_type": "stream",
     "text": [
      "+------+----------+----------------+-----------+\n",
      "|atm_id|atm_number|atm_manufacturer|location_id|\n",
      "+------+----------+----------------+-----------+\n",
      "|     1|         1|             NCR|         74|\n",
      "|     2|        10|             NCR|         76|\n",
      "|     3|       100|             NCR|         56|\n",
      "|     4|       101|             NCR|         17|\n",
      "|     5|       102|             NCR|          3|\n",
      "|     6|       103| Diebold Nixdorf|        103|\n",
      "|     7|       104|             NCR|         58|\n",
      "|     8|       105| Diebold Nixdorf|         76|\n",
      "|     9|       106|             NCR|         55|\n",
      "|    10|       107| Diebold Nixdorf|         62|\n",
      "+------+----------+----------------+-----------+\n",
      "only showing top 10 rows"
     ]
    }
   ],
   "source": [
    "df_atm.show(10)"
   ]
  },
  {
   "cell_type": "code",
   "execution_count": 25,
   "metadata": {},
   "outputs": [
    {
     "data": {
      "application/vnd.jupyter.widget-view+json": {
       "model_id": "",
       "version_major": 2,
       "version_minor": 0
      },
      "text/plain": [
       "FloatProgress(value=0.0, bar_style='info', description='Progress:', layout=Layout(height='25px', width='50%'),…"
      ]
     },
     "metadata": {},
     "output_type": "display_data"
    },
    {
     "name": "stdout",
     "output_type": "stream",
     "text": [
      "root\n",
      " |-- atm_id: integer (nullable = true)\n",
      " |-- atm_number: string (nullable = true)\n",
      " |-- atm_manufacturer: string (nullable = true)\n",
      " |-- location_id: integer (nullable = true)"
     ]
    }
   ],
   "source": [
    "df_atm.printSchema()"
   ]
  },
  {
   "cell_type": "markdown",
   "metadata": {},
   "source": [
    "## Creating Date dimension"
   ]
  },
  {
   "cell_type": "code",
   "execution_count": 26,
   "metadata": {},
   "outputs": [
    {
     "data": {
      "application/vnd.jupyter.widget-view+json": {
       "model_id": "",
       "version_major": 2,
       "version_minor": 0
      },
      "text/plain": [
       "FloatProgress(value=0.0, bar_style='info', description='Progress:', layout=Layout(height='25px', width='50%'),…"
      ]
     },
     "metadata": {},
     "output_type": "display_data"
    },
    {
     "name": "stdout",
     "output_type": "stream",
     "text": [
      "+----+-----+---+----+--------+\n",
      "|year|month|day|hour| weekday|\n",
      "+----+-----+---+----+--------+\n",
      "|2017|April| 14|  11|  Friday|\n",
      "|2017|  May| 25|   8|Thursday|\n",
      "|2017|  May| 27|  19|Saturday|\n",
      "|2017|  May|  2|  20| Tuesday|\n",
      "|2017| June| 19|   0|  Monday|\n",
      "+----+-----+---+----+--------+\n",
      "only showing top 5 rows"
     ]
    }
   ],
   "source": [
    "df_date = df.select(\"year\",\"month\",\"day\",\"hour\",\"weekday\").distinct()\n",
    "df_date.show(5)\n"
   ]
  },
  {
   "cell_type": "code",
   "execution_count": 27,
   "metadata": {},
   "outputs": [
    {
     "data": {
      "application/vnd.jupyter.widget-view+json": {
       "model_id": "",
       "version_major": 2,
       "version_minor": 0
      },
      "text/plain": [
       "FloatProgress(value=0.0, bar_style='info', description='Progress:', layout=Layout(height='25px', width='50%'),…"
      ]
     },
     "metadata": {},
     "output_type": "display_data"
    },
    {
     "name": "stdout",
     "output_type": "stream",
     "text": [
      "8685"
     ]
    }
   ],
   "source": [
    "df_date.count()\n"
   ]
  },
  {
   "cell_type": "code",
   "execution_count": 28,
   "metadata": {},
   "outputs": [
    {
     "data": {
      "application/vnd.jupyter.widget-view+json": {
       "model_id": "",
       "version_major": 2,
       "version_minor": 0
      },
      "text/plain": [
       "FloatProgress(value=0.0, bar_style='info', description='Progress:', layout=Layout(height='25px', width='50%'),…"
      ]
     },
     "metadata": {},
     "output_type": "display_data"
    }
   ],
   "source": [
    "# If using Spark version > 3.0, then use this for proper conversion to timestamp\n",
    "\n",
    "# spark.conf.set(\"spark.sql.legacy.timeParserPolicy\", \"LEGACY\")"
   ]
  },
  {
   "cell_type": "code",
   "execution_count": 29,
   "metadata": {},
   "outputs": [
    {
     "data": {
      "application/vnd.jupyter.widget-view+json": {
       "model_id": "",
       "version_major": 2,
       "version_minor": 0
      },
      "text/plain": [
       "FloatProgress(value=0.0, bar_style='info', description='Progress:', layout=Layout(height='25px', width='50%'),…"
      ]
     },
     "metadata": {},
     "output_type": "display_data"
    }
   ],
   "source": [
    "# create the timestamp using year, month, day, hour columns\n",
    "# date_id is the primary key generated using row_number\n",
    "\n",
    "window_spec = Window.partitionBy().orderBy('year','month','day','hour')\n",
    "\n",
    "df_date = df_date.select(row_number().over(window_spec).alias('date_id'),\n",
    "                         to_timestamp(\n",
    "                            concat_ws(\n",
    "                                \" \",\n",
    "                                df[\"year\"].cast(\"string\"),  # Cast year to string\n",
    "                                df[\"month\"],\n",
    "                                df[\"day\"].cast(\"string\"),   # Cast day to string\n",
    "                                df[\"hour\"].cast(\"string\"),  # Cast hour to string\n",
    "                                    ),\n",
    "                    \"yyyy MMMM dd HH\").alias('full_date_time'),  #\"yyyy MMMM dd HH\" is the format of input\n",
    "                         '*')\n"
   ]
  },
  {
   "cell_type": "code",
   "execution_count": 30,
   "metadata": {},
   "outputs": [
    {
     "data": {
      "application/vnd.jupyter.widget-view+json": {
       "model_id": "",
       "version_major": 2,
       "version_minor": 0
      },
      "text/plain": [
       "FloatProgress(value=0.0, bar_style='info', description='Progress:', layout=Layout(height='25px', width='50%'),…"
      ]
     },
     "metadata": {},
     "output_type": "display_data"
    },
    {
     "name": "stdout",
     "output_type": "stream",
     "text": [
      "+-------+-------------------+----+-----+---+----+--------+\n",
      "|date_id|     full_date_time|year|month|day|hour| weekday|\n",
      "+-------+-------------------+----+-----+---+----+--------+\n",
      "|      1|2017-04-01 00:00:00|2017|April|  1|   0|Saturday|\n",
      "|      2|2017-04-01 01:00:00|2017|April|  1|   1|Saturday|\n",
      "|      3|2017-04-01 02:00:00|2017|April|  1|   2|Saturday|\n",
      "|      4|2017-04-01 03:00:00|2017|April|  1|   3|Saturday|\n",
      "|      5|2017-04-01 04:00:00|2017|April|  1|   4|Saturday|\n",
      "|      6|2017-04-01 05:00:00|2017|April|  1|   5|Saturday|\n",
      "|      7|2017-04-01 06:00:00|2017|April|  1|   6|Saturday|\n",
      "|      8|2017-04-01 07:00:00|2017|April|  1|   7|Saturday|\n",
      "|      9|2017-04-01 08:00:00|2017|April|  1|   8|Saturday|\n",
      "|     10|2017-04-01 09:00:00|2017|April|  1|   9|Saturday|\n",
      "+-------+-------------------+----+-----+---+----+--------+\n",
      "only showing top 10 rows"
     ]
    }
   ],
   "source": [
    "df_date.show(10)"
   ]
  },
  {
   "cell_type": "code",
   "execution_count": 32,
   "metadata": {},
   "outputs": [
    {
     "data": {
      "application/vnd.jupyter.widget-view+json": {
       "model_id": "",
       "version_major": 2,
       "version_minor": 0
      },
      "text/plain": [
       "FloatProgress(value=0.0, bar_style='info', description='Progress:', layout=Layout(height='25px', width='50%'),…"
      ]
     },
     "metadata": {},
     "output_type": "display_data"
    },
    {
     "name": "stdout",
     "output_type": "stream",
     "text": [
      "root\n",
      " |-- date_id: integer (nullable = true)\n",
      " |-- full_date_time: timestamp (nullable = true)\n",
      " |-- year: integer (nullable = true)\n",
      " |-- month: string (nullable = true)\n",
      " |-- day: integer (nullable = true)\n",
      " |-- hour: integer (nullable = true)\n",
      " |-- weekday: string (nullable = true)"
     ]
    }
   ],
   "source": [
    "df_date.printSchema()"
   ]
  },
  {
   "cell_type": "markdown",
   "metadata": {},
   "source": [
    "## Creating Card type dimension"
   ]
  },
  {
   "cell_type": "code",
   "execution_count": 33,
   "metadata": {},
   "outputs": [
    {
     "data": {
      "application/vnd.jupyter.widget-view+json": {
       "model_id": "",
       "version_major": 2,
       "version_minor": 0
      },
      "text/plain": [
       "FloatProgress(value=0.0, bar_style='info', description='Progress:', layout=Layout(height='25px', width='50%'),…"
      ]
     },
     "metadata": {},
     "output_type": "display_data"
    },
    {
     "name": "stdout",
     "output_type": "stream",
     "text": [
      "+--------------------+\n",
      "|           card_type|\n",
      "+--------------------+\n",
      "|Visa Dankort - on-us|\n",
      "|  Mastercard - on-us|\n",
      "|         HÃƒÂ¦vekort|\n",
      "|            VisaPlus|\n",
      "|     Dankort - on-us|\n",
      "+--------------------+\n",
      "only showing top 5 rows"
     ]
    }
   ],
   "source": [
    "df_card = df.select('card_type').distinct()\n",
    "df_card.show(5)\n"
   ]
  },
  {
   "cell_type": "code",
   "execution_count": 34,
   "metadata": {},
   "outputs": [
    {
     "data": {
      "application/vnd.jupyter.widget-view+json": {
       "model_id": "",
       "version_major": 2,
       "version_minor": 0
      },
      "text/plain": [
       "FloatProgress(value=0.0, bar_style='info', description='Progress:', layout=Layout(height='25px', width='50%'),…"
      ]
     },
     "metadata": {},
     "output_type": "display_data"
    },
    {
     "name": "stdout",
     "output_type": "stream",
     "text": [
      "+------------+-------------------+\n",
      "|card_type_id|          card_type|\n",
      "+------------+-------------------+\n",
      "|           1|             CIRRUS|\n",
      "|           2|            Dankort|\n",
      "|           3|    Dankort - on-us|\n",
      "|           4|        HÃƒÂ¦vekort|\n",
      "|           5|HÃƒÂ¦vekort - on-us|\n",
      "+------------+-------------------+\n",
      "only showing top 5 rows"
     ]
    }
   ],
   "source": [
    "df_card = df_card.select(row_number().over(Window.partitionBy().orderBy('card_type')).alias('card_type_id'), 'card_type')\n",
    "\n",
    "df_card.show(5)"
   ]
  },
  {
   "cell_type": "code",
   "execution_count": 35,
   "metadata": {},
   "outputs": [
    {
     "data": {
      "application/vnd.jupyter.widget-view+json": {
       "model_id": "",
       "version_major": 2,
       "version_minor": 0
      },
      "text/plain": [
       "FloatProgress(value=0.0, bar_style='info', description='Progress:', layout=Layout(height='25px', width='50%'),…"
      ]
     },
     "metadata": {},
     "output_type": "display_data"
    },
    {
     "name": "stdout",
     "output_type": "stream",
     "text": [
      "12"
     ]
    }
   ],
   "source": [
    "df_card.count()"
   ]
  },
  {
   "cell_type": "code",
   "execution_count": 36,
   "metadata": {},
   "outputs": [
    {
     "data": {
      "application/vnd.jupyter.widget-view+json": {
       "model_id": "",
       "version_major": 2,
       "version_minor": 0
      },
      "text/plain": [
       "FloatProgress(value=0.0, bar_style='info', description='Progress:', layout=Layout(height='25px', width='50%'),…"
      ]
     },
     "metadata": {},
     "output_type": "display_data"
    },
    {
     "name": "stdout",
     "output_type": "stream",
     "text": [
      "+------------+--------------------+\n",
      "|card_type_id|           card_type|\n",
      "+------------+--------------------+\n",
      "|           1|              CIRRUS|\n",
      "|           2|             Dankort|\n",
      "|           3|     Dankort - on-us|\n",
      "|           4|         HÃƒÂ¦vekort|\n",
      "|           5| HÃƒÂ¦vekort - on-us|\n",
      "|           6|             Maestro|\n",
      "|           7|          MasterCard|\n",
      "|           8|  Mastercard - on-us|\n",
      "|           9|                VISA|\n",
      "|          10|        Visa Dankort|\n",
      "|          11|Visa Dankort - on-us|\n",
      "|          12|            VisaPlus|\n",
      "+------------+--------------------+"
     ]
    }
   ],
   "source": [
    "df_card.show()"
   ]
  },
  {
   "cell_type": "code",
   "execution_count": 37,
   "metadata": {},
   "outputs": [
    {
     "data": {
      "application/vnd.jupyter.widget-view+json": {
       "model_id": "",
       "version_major": 2,
       "version_minor": 0
      },
      "text/plain": [
       "FloatProgress(value=0.0, bar_style='info', description='Progress:', layout=Layout(height='25px', width='50%'),…"
      ]
     },
     "metadata": {},
     "output_type": "display_data"
    },
    {
     "name": "stdout",
     "output_type": "stream",
     "text": [
      "root\n",
      " |-- card_type_id: integer (nullable = true)\n",
      " |-- card_type: string (nullable = true)"
     ]
    }
   ],
   "source": [
    "df_card.printSchema()"
   ]
  },
  {
   "cell_type": "markdown",
   "metadata": {},
   "source": [
    "## Creating fact table"
   ]
  },
  {
   "cell_type": "code",
   "execution_count": 38,
   "metadata": {},
   "outputs": [
    {
     "data": {
      "application/vnd.jupyter.widget-view+json": {
       "model_id": "",
       "version_major": 2,
       "version_minor": 0
      },
      "text/plain": [
       "FloatProgress(value=0.0, bar_style='info', description='Progress:', layout=Layout(height='25px', width='50%'),…"
      ]
     },
     "metadata": {},
     "output_type": "display_data"
    }
   ],
   "source": [
    "# Creating all the views for all dimensions and fact table\n",
    "\n",
    "df_location.createOrReplaceTempView('loc')\n",
    "df_atm.createOrReplaceTempView('atm')\n",
    "df_date.createOrReplaceTempView('date')\n",
    "df_card.createOrReplaceTempView('card')\n",
    "df.createOrReplaceTempView('fact')"
   ]
  },
  {
   "cell_type": "code",
   "execution_count": 39,
   "metadata": {},
   "outputs": [
    {
     "data": {
      "application/vnd.jupyter.widget-view+json": {
       "model_id": "",
       "version_major": 2,
       "version_minor": 0
      },
      "text/plain": [
       "FloatProgress(value=0.0, bar_style='info', description='Progress:', layout=Layout(height='25px', width='50%'),…"
      ]
     },
     "metadata": {},
     "output_type": "display_data"
    },
    {
     "name": "stdout",
     "output_type": "stream",
     "text": [
      "+------------+----+-------+---+-------+----+----------+------+----------------+------------+-----------------+-----------------+-----------+-------+-------+--------+---------------+------------------+----------+------------+------------+-----------+-----------+---------------+-----------------+-------+--------+--------+----------+--------+-------+----------+----------+------------+-------------------+\n",
      "|card_type_id|year|  month|day|weekday|hour|atm_status|atm_id|atm_manufacturer|atm_location|   atm_streetname|atm_street_number|atm_zipcode|atm_lat|atm_lon|currency|      card_type|transaction_amount|   service|message_code|message_text|weather_lat|weather_lon|weather_city_id|weather_city_name|   temp|pressure|humidity|wind_speed|wind_deg|rain_3h|clouds_all|weather_id|weather_main|weather_description|\n",
      "+------------+----+-------+---+-------+----+----------+------+----------------+------------+-----------------+-----------------+-----------+-------+-------+--------+---------------+------------------+----------+------------+------------+-----------+-----------+---------------+-----------------+-------+--------+--------+----------+--------+-------+----------+----------+------------+-------------------+\n",
      "|           3|2017|January|  1| Sunday|   2|  Inactive|    16|             NCR|       Skive|         Adelgade|                8|       7800| 56.567|  9.027|     DKK|Dankort - on-us|              9475|Withdrawal|        null|        null|     56.567|      9.033|        2613731|            Skive| 281.15|    1010|     100|         6|     240|    0.0|        75|       500|        Rain|         light rain|\n",
      "|           3|2017|January|  1| Sunday|   7|    Active|    45|             NCR|  Abildgaard|   HjÃƒÂ¸rringvej|              144|       9900| 57.447| 10.506|     DKK|Dankort - on-us|              4192|Withdrawal|        null|        null|     57.441|     10.537|        2621927|    Frederikshavn|280.289|    1016|     100|         8|     272|    0.0|        88|       804|      Clouds|    overcast clouds|\n",
      "|           3|2017|January|  1| Sunday|   8|    Active|    24|             NCR|       Hobro|         Adelgade|               31|       9500| 56.638|  9.794|     DKK|Dankort - on-us|              2487|Withdrawal|        null|        null|     56.643|       9.79|        2620167|            Hobro|278.945|    1016|      93|         5|     283|    0.0|        92|       804|      Clouds|    overcast clouds|\n",
      "|           3|2017|January|  1| Sunday|   9|    Active|     7| Diebold Nixdorf|   Hjallerup|Hjallerup Centret|               18|       9320| 57.168| 10.148|     DKK|Dankort - on-us|              3795|Withdrawal|        null|        null|     57.165|     10.146|        2620275|        Hjallerup|278.945|    1016|      93|         5|     283|    0.0|        92|       804|      Clouds|    overcast clouds|\n",
      "|           3|2017|January|  1| Sunday|   9|    Active|    65|             NCR|   Storvorde|  VandvÃƒÂ¦rksvej|                2|       9280| 57.005| 10.101|     DKK|Dankort - on-us|                82|Withdrawal|        null|        null|     57.004|     10.101|        2612301|        Storvorde|278.945|    1016|      93|         5|     283|    0.0|        92|       804|      Clouds|    overcast clouds|\n",
      "+------------+----+-------+---+-------+----+----------+------+----------------+------------+-----------------+-----------------+-----------+-------+-------+--------+---------------+------------------+----------+------------+------------+-----------+-----------+---------------+-----------------+-------+--------+--------+----------+--------+-------+----------+----------+------------+-------------------+\n",
      "only showing top 5 rows"
     ]
    }
   ],
   "source": [
    "# joining with card dimension\n",
    "\n",
    "df_fact = spark.sql(\"select card.card_type_id, fact.* \\\n",
    "                    from fact left join card on fact.card_type = card.card_type\")\n",
    "df_fact.show(5)"
   ]
  },
  {
   "cell_type": "code",
   "execution_count": 40,
   "metadata": {},
   "outputs": [
    {
     "data": {
      "application/vnd.jupyter.widget-view+json": {
       "model_id": "",
       "version_major": 2,
       "version_minor": 0
      },
      "text/plain": [
       "FloatProgress(value=0.0, bar_style='info', description='Progress:', layout=Layout(height='25px', width='50%'),…"
      ]
     },
     "metadata": {},
     "output_type": "display_data"
    }
   ],
   "source": [
    "# create a view for the fact table based on updated columns after previous join\n",
    "\n",
    "df_fact.createOrReplaceTempView('fact')"
   ]
  },
  {
   "cell_type": "code",
   "execution_count": 41,
   "metadata": {},
   "outputs": [
    {
     "data": {
      "application/vnd.jupyter.widget-view+json": {
       "model_id": "",
       "version_major": 2,
       "version_minor": 0
      },
      "text/plain": [
       "FloatProgress(value=0.0, bar_style='info', description='Progress:', layout=Layout(height='25px', width='50%'),…"
      ]
     },
     "metadata": {},
     "output_type": "display_data"
    },
    {
     "name": "stdout",
     "output_type": "stream",
     "text": [
      "+-------+------------+----+-------+---+-------+----+----------+------+----------------+------------+-----------------+-----------------+-----------+-------+-------+--------+---------------+------------------+----------+------------+------------+-----------+-----------+---------------+-----------------+-------+--------+--------+----------+--------+-------+----------+----------+------------+-------------------+\n",
      "|date_id|card_type_id|year|  month|day|weekday|hour|atm_status|atm_id|atm_manufacturer|atm_location|   atm_streetname|atm_street_number|atm_zipcode|atm_lat|atm_lon|currency|      card_type|transaction_amount|   service|message_code|message_text|weather_lat|weather_lon|weather_city_id|weather_city_name|   temp|pressure|humidity|wind_speed|wind_deg|rain_3h|clouds_all|weather_id|weather_main|weather_description|\n",
      "+-------+------------+----+-------+---+-------+----+----------+------+----------------+------------+-----------------+-----------------+-----------+-------+-------+--------+---------------+------------------+----------+------------+------------+-----------+-----------+---------------+-----------------+-------+--------+--------+----------+--------+-------+----------+----------+------------+-------------------+\n",
      "|   2865|           3|2017|January|  1| Sunday|   2|  Inactive|    16|             NCR|       Skive|         Adelgade|                8|       7800| 56.567|  9.027|     DKK|Dankort - on-us|              9475|Withdrawal|        null|        null|     56.567|      9.033|        2613731|            Skive| 281.15|    1010|     100|         6|     240|    0.0|        75|       500|        Rain|         light rain|\n",
      "|   2870|           3|2017|January|  1| Sunday|   7|    Active|    45|             NCR|  Abildgaard|   HjÃƒÂ¸rringvej|              144|       9900| 57.447| 10.506|     DKK|Dankort - on-us|              4192|Withdrawal|        null|        null|     57.441|     10.537|        2621927|    Frederikshavn|280.289|    1016|     100|         8|     272|    0.0|        88|       804|      Clouds|    overcast clouds|\n",
      "|   2871|           3|2017|January|  1| Sunday|   8|    Active|    24|             NCR|       Hobro|         Adelgade|               31|       9500| 56.638|  9.794|     DKK|Dankort - on-us|              2487|Withdrawal|        null|        null|     56.643|       9.79|        2620167|            Hobro|278.945|    1016|      93|         5|     283|    0.0|        92|       804|      Clouds|    overcast clouds|\n",
      "|   2872|           3|2017|January|  1| Sunday|   9|    Active|     7| Diebold Nixdorf|   Hjallerup|Hjallerup Centret|               18|       9320| 57.168| 10.148|     DKK|Dankort - on-us|              3795|Withdrawal|        null|        null|     57.165|     10.146|        2620275|        Hjallerup|278.945|    1016|      93|         5|     283|    0.0|        92|       804|      Clouds|    overcast clouds|\n",
      "|   2872|           3|2017|January|  1| Sunday|   9|    Active|    65|             NCR|   Storvorde|  VandvÃƒÂ¦rksvej|                2|       9280| 57.005| 10.101|     DKK|Dankort - on-us|                82|Withdrawal|        null|        null|     57.004|     10.101|        2612301|        Storvorde|278.945|    1016|      93|         5|     283|    0.0|        92|       804|      Clouds|    overcast clouds|\n",
      "+-------+------------+----+-------+---+-------+----+----------+------+----------------+------------+-----------------+-----------------+-----------+-------+-------+--------+---------------+------------------+----------+------------+------------+-----------+-----------+---------------+-----------------+-------+--------+--------+----------+--------+-------+----------+----------+------------+-------------------+\n",
      "only showing top 5 rows"
     ]
    }
   ],
   "source": [
    "# join with date dimension\n",
    "\n",
    "df_fact = spark.sql(\"select date.date_id, fact.* from fact left join date on \\\n",
    "                    fact.year = date.year and \\\n",
    "                    fact.month = date.month and \\\n",
    "                    fact.day = date.day and \\\n",
    "                    fact.hour = date.hour and \\\n",
    "                    fact.weekday = date.weekday \")\n",
    "\n",
    "df_fact.show(5)"
   ]
  },
  {
   "cell_type": "code",
   "execution_count": 42,
   "metadata": {},
   "outputs": [
    {
     "data": {
      "application/vnd.jupyter.widget-view+json": {
       "model_id": "",
       "version_major": 2,
       "version_minor": 0
      },
      "text/plain": [
       "FloatProgress(value=0.0, bar_style='info', description='Progress:', layout=Layout(height='25px', width='50%'),…"
      ]
     },
     "metadata": {},
     "output_type": "display_data"
    }
   ],
   "source": [
    "df_fact.createOrReplaceTempView('fact')"
   ]
  },
  {
   "cell_type": "code",
   "execution_count": 43,
   "metadata": {},
   "outputs": [
    {
     "data": {
      "application/vnd.jupyter.widget-view+json": {
       "model_id": "",
       "version_major": 2,
       "version_minor": 0
      },
      "text/plain": [
       "FloatProgress(value=0.0, bar_style='info', description='Progress:', layout=Layout(height='25px', width='50%'),…"
      ]
     },
     "metadata": {},
     "output_type": "display_data"
    },
    {
     "name": "stdout",
     "output_type": "stream",
     "text": [
      "+--------------+-------+------------+----+-------+---+-------+----+----------+------+----------------+------------+-----------------+-----------------+-----------+-------+-------+--------+---------------+------------------+----------+------------+------------+-----------+-----------+---------------+-----------------+-------+--------+--------+----------+--------+-------+----------+----------+------------+-------------------+\n",
      "|weather_loc_id|date_id|card_type_id|year|  month|day|weekday|hour|atm_status|atm_id|atm_manufacturer|atm_location|   atm_streetname|atm_street_number|atm_zipcode|atm_lat|atm_lon|currency|      card_type|transaction_amount|   service|message_code|message_text|weather_lat|weather_lon|weather_city_id|weather_city_name|   temp|pressure|humidity|wind_speed|wind_deg|rain_3h|clouds_all|weather_id|weather_main|weather_description|\n",
      "+--------------+-------+------------+----+-------+---+-------+----+----------+------+----------------+------------+-----------------+-----------------+-----------+-------+-------+--------+---------------+------------------+----------+------------+------------+-----------+-----------+---------------+-----------------+-------+--------+--------+----------+--------+-------+----------+----------+------------+-------------------+\n",
      "|            86|   2865|           3|2017|January|  1| Sunday|   2|  Inactive|    16|             NCR|       Skive|         Adelgade|                8|       7800| 56.567|  9.027|     DKK|Dankort - on-us|              9475|Withdrawal|        null|        null|     56.567|      9.033|        2613731|            Skive| 281.15|    1010|     100|         6|     240|    0.0|        75|       500|        Rain|         light rain|\n",
      "|            11|   2870|           3|2017|January|  1| Sunday|   7|    Active|    45|             NCR|  Abildgaard|   HjÃƒÂ¸rringvej|              144|       9900| 57.447| 10.506|     DKK|Dankort - on-us|              4192|Withdrawal|        null|        null|     57.441|     10.537|        2621927|    Frederikshavn|280.289|    1016|     100|         8|     272|    0.0|        88|       804|      Clouds|    overcast clouds|\n",
      "|            40|   2871|           3|2017|January|  1| Sunday|   8|    Active|    24|             NCR|       Hobro|         Adelgade|               31|       9500| 56.638|  9.794|     DKK|Dankort - on-us|              2487|Withdrawal|        null|        null|     56.643|       9.79|        2620167|            Hobro|278.945|    1016|      93|         5|     283|    0.0|        92|       804|      Clouds|    overcast clouds|\n",
      "|            38|   2872|           3|2017|January|  1| Sunday|   9|    Active|     7| Diebold Nixdorf|   Hjallerup|Hjallerup Centret|               18|       9320| 57.168| 10.148|     DKK|Dankort - on-us|              3795|Withdrawal|        null|        null|     57.165|     10.146|        2620275|        Hjallerup|278.945|    1016|      93|         5|     283|    0.0|        92|       804|      Clouds|    overcast clouds|\n",
      "|            92|   2872|           3|2017|January|  1| Sunday|   9|    Active|    65|             NCR|   Storvorde|  VandvÃƒÂ¦rksvej|                2|       9280| 57.005| 10.101|     DKK|Dankort - on-us|                82|Withdrawal|        null|        null|     57.004|     10.101|        2612301|        Storvorde|278.945|    1016|      93|         5|     283|    0.0|        92|       804|      Clouds|    overcast clouds|\n",
      "+--------------+-------+------------+----+-------+---+-------+----+----------+------+----------------+------------+-----------------+-----------------+-----------+-------+-------+--------+---------------+------------------+----------+------------+------------+-----------+-----------+---------------+-----------------+-------+--------+--------+----------+--------+-------+----------+----------+------------+-------------------+\n",
      "only showing top 5 rows"
     ]
    }
   ],
   "source": [
    "# join with location dimension\n",
    "\n",
    "df_fact = spark.sql(\"select loc.location_id weather_loc_id, fact.* \\\n",
    "                     from fact left join loc on \\\n",
    "                     fact.atm_location = loc.atm_location and \\\n",
    "                     fact.atm_streetname = loc.atm_streetname and \\\n",
    "                     fact.atm_street_number = loc.atm_street_number and \\\n",
    "                     fact.atm_zipcode = loc.atm_zipcode and \\\n",
    "                     fact.atm_lat = loc.atm_lat and \\\n",
    "                     fact.atm_lon = loc.atm_lon \")\n",
    "\n",
    "df_fact.show(5)"
   ]
  },
  {
   "cell_type": "code",
   "execution_count": 44,
   "metadata": {},
   "outputs": [
    {
     "data": {
      "application/vnd.jupyter.widget-view+json": {
       "model_id": "",
       "version_major": 2,
       "version_minor": 0
      },
      "text/plain": [
       "FloatProgress(value=0.0, bar_style='info', description='Progress:', layout=Layout(height='25px', width='50%'),…"
      ]
     },
     "metadata": {},
     "output_type": "display_data"
    }
   ],
   "source": [
    "df_fact.createOrReplaceTempView('fact')"
   ]
  },
  {
   "cell_type": "code",
   "execution_count": 45,
   "metadata": {},
   "outputs": [
    {
     "data": {
      "application/vnd.jupyter.widget-view+json": {
       "model_id": "",
       "version_major": 2,
       "version_minor": 0
      },
      "text/plain": [
       "FloatProgress(value=0.0, bar_style='info', description='Progress:', layout=Layout(height='25px', width='50%'),…"
      ]
     },
     "metadata": {},
     "output_type": "display_data"
    },
    {
     "name": "stdout",
     "output_type": "stream",
     "text": [
      "+----------+--------------+-------+------------+----+-------+---+-------+----+----------+------+----------------+------------+----------------+-----------------+-----------+-------+-------+--------+---------------+------------------+----------+------------+------------+-----------+-----------+---------------+-----------------+-------+--------+--------+----------+--------+-------+----------+----------+------------+-------------------+\n",
      "|atm_id_dim|weather_loc_id|date_id|card_type_id|year|  month|day|weekday|hour|atm_status|atm_id|atm_manufacturer|atm_location|  atm_streetname|atm_street_number|atm_zipcode|atm_lat|atm_lon|currency|      card_type|transaction_amount|   service|message_code|message_text|weather_lat|weather_lon|weather_city_id|weather_city_name|   temp|pressure|humidity|wind_speed|wind_deg|rain_3h|clouds_all|weather_id|weather_main|weather_description|\n",
      "+----------+--------------+-------+------------+----+-------+---+-------+----+----------+------+----------------+------------+----------------+-----------------+-----------+-------+-------+--------+---------------+------------------+----------+------------+------------+-----------+-----------+---------------+-----------------+-------+--------+--------+----------+--------+-------+----------+----------+------------+-------------------+\n",
      "|        54|            11|   2870|           3|2017|January|  1| Sunday|   7|    Active|    45|             NCR|  Abildgaard|  HjÃƒÂ¸rringvej|              144|       9900| 57.447| 10.506|     DKK|Dankort - on-us|              4192|Withdrawal|        null|        null|     57.441|     10.537|        2621927|    Frederikshavn|280.289|    1016|     100|         8|     272|    0.0|        88|       804|      Clouds|    overcast clouds|\n",
      "|        29|            79|   2874|           3|2017|January|  1| Sunday|  11|    Active|    22|             NCR|    Roskilde|KÃƒÂ¸benhavnsvej|               65|       4000| 55.642| 12.106|     DKK|Dankort - on-us|              5046|Withdrawal|        null|        null|     55.642|      12.08|        2614481|         Roskilde| 280.15|    1009|      93|         4|     300|    0.0|        92|       500|        Rain|         light rain|\n",
      "|        29|            79|   2875|           3|2017|January|  1| Sunday|  12|    Active|    22|             NCR|    Roskilde|KÃƒÂ¸benhavnsvej|               65|       4000| 55.642| 12.106|     DKK|Dankort - on-us|              8216|Withdrawal|        null|        null|     55.642|      12.08|        2614481|         Roskilde| 279.69|    1009|      93|         4|     270|  1.925|        92|       500|        Rain|         light rain|\n",
      "|        54|            11|   2876|           3|2017|January|  1| Sunday|  13|    Active|    45|             NCR|  Abildgaard|  HjÃƒÂ¸rringvej|              144|       9900| 57.447| 10.506|     DKK|Dankort - on-us|              1556|Withdrawal|        null|        null|     57.441|     10.537|        2621927|    Frederikshavn|279.646|    1017|     100|         7|     310|    0.0|        56|       803|      Clouds|      broken clouds|\n",
      "|        54|            11|   2876|           3|2017|January|  1| Sunday|  13|    Active|    45|             NCR|  Abildgaard|  HjÃƒÂ¸rringvej|              144|       9900| 57.447| 10.506|     DKK|Dankort - on-us|              4428|Withdrawal|        null|        null|     57.441|     10.537|        2621927|    Frederikshavn|279.646|    1017|     100|         7|     310|    0.0|        56|       803|      Clouds|      broken clouds|\n",
      "+----------+--------------+-------+------------+----+-------+---+-------+----+----------+------+----------------+------------+----------------+-----------------+-----------+-------+-------+--------+---------------+------------------+----------+------------+------------+-----------+-----------+---------------+-----------------+-------+--------+--------+----------+--------+-------+----------+----------+------------+-------------------+\n",
      "only showing top 5 rows"
     ]
    }
   ],
   "source": [
    "# join with atm dimension\n",
    "# note that atm_id of fact will be mapped to atm_number of atm dimension\n",
    "\n",
    "df_fact = spark.sql(\"select atm.atm_id atm_id_dim, fact.* \\\n",
    "                    from fact left join atm on \\\n",
    "                    fact.atm_id = atm.atm_number and \\\n",
    "                    fact.atm_manufacturer = atm.atm_manufacturer and \\\n",
    "                    fact.weather_loc_id = atm.location_id \")\n",
    "\n",
    "df_fact.show(5)\n"
   ]
  },
  {
   "cell_type": "code",
   "execution_count": 46,
   "metadata": {},
   "outputs": [
    {
     "data": {
      "application/vnd.jupyter.widget-view+json": {
       "model_id": "",
       "version_major": 2,
       "version_minor": 0
      },
      "text/plain": [
       "FloatProgress(value=0.0, bar_style='info', description='Progress:', layout=Layout(height='25px', width='50%'),…"
      ]
     },
     "metadata": {},
     "output_type": "display_data"
    }
   ],
   "source": [
    "df_fact.createOrReplaceTempView('fact')"
   ]
  },
  {
   "cell_type": "code",
   "execution_count": 47,
   "metadata": {},
   "outputs": [
    {
     "data": {
      "application/vnd.jupyter.widget-view+json": {
       "model_id": "",
       "version_major": 2,
       "version_minor": 0
      },
      "text/plain": [
       "FloatProgress(value=0.0, bar_style='info', description='Progress:', layout=Layout(height='25px', width='50%'),…"
      ]
     },
     "metadata": {},
     "output_type": "display_data"
    },
    {
     "name": "stdout",
     "output_type": "stream",
     "text": [
      "+--------+------+--------------+-------+------------+----------+--------+----------+------------------+------------+------------+-------+----------+----------+------------+-------------------+\n",
      "|trans_id|atm_id|weather_loc_id|date_id|card_type_id|atm_status|currency|   service|transaction_amount|message_code|message_text|rain_3h|clouds_all|weather_id|weather_main|weather_description|\n",
      "+--------+------+--------------+-------+------------+----------+--------+----------+------------------+------------+------------+-------+----------+----------+------------+-------------------+\n",
      "|       1|     1|            74|      1|           7|    Active|     DKK|Withdrawal|              2033|        null|        null|    0.0|        56|       701|        Mist|               mist|\n",
      "|       2|     1|            74|      1|           8|    Active|     DKK|Withdrawal|              4502|        null|        null|    0.0|        56|       701|        Mist|               mist|\n",
      "|       3|     1|            74|      1|           9|    Active|     DKK|Withdrawal|              6662|        null|        null|    0.0|        56|       701|        Mist|               mist|\n",
      "|       4|    18|           108|      1|           1|  Inactive|     DKK|Withdrawal|              1965|        null|        null|  0.129|        64|       500|        Rain|         light rain|\n",
      "|       5|    18|           108|      1|           8|  Inactive|     DKK|Withdrawal|              4044|        null|        null|  0.129|        64|       500|        Rain|         light rain|\n",
      "+--------+------+--------------+-------+------------+----------+--------+----------+------------------+------------+------------+-------+----------+----------+------------+-------------------+\n",
      "only showing top 5 rows"
     ]
    }
   ],
   "source": [
    "# selecting only the relevant columns in fact table\n",
    "\n",
    "df_fact = df_fact.select(row_number().over(Window.partitionBy().orderBy('date_id','atm_id_dim','weather_loc_id','card_type_id')).alias('trans_id'),\n",
    "                         col('atm_id_dim').alias('atm_id'),\n",
    "                         'weather_loc_id','date_id', 'card_type_id', 'atm_status', 'currency','service', 'transaction_amount',\n",
    "                         'message_code','message_text','rain_3h','clouds_all','weather_id','weather_main', 'weather_description'\n",
    "                         )\n",
    "\n",
    "df_fact.show(5)\n"
   ]
  },
  {
   "cell_type": "code",
   "execution_count": 48,
   "metadata": {},
   "outputs": [
    {
     "data": {
      "application/vnd.jupyter.widget-view+json": {
       "model_id": "",
       "version_major": 2,
       "version_minor": 0
      },
      "text/plain": [
       "FloatProgress(value=0.0, bar_style='info', description='Progress:', layout=Layout(height='25px', width='50%'),…"
      ]
     },
     "metadata": {},
     "output_type": "display_data"
    }
   ],
   "source": [
    "df_fact.createOrReplaceTempView('fact')"
   ]
  },
  {
   "cell_type": "code",
   "execution_count": 49,
   "metadata": {},
   "outputs": [
    {
     "data": {
      "application/vnd.jupyter.widget-view+json": {
       "model_id": "",
       "version_major": 2,
       "version_minor": 0
      },
      "text/plain": [
       "FloatProgress(value=0.0, bar_style='info', description='Progress:', layout=Layout(height='25px', width='50%'),…"
      ]
     },
     "metadata": {},
     "output_type": "display_data"
    },
    {
     "name": "stdout",
     "output_type": "stream",
     "text": [
      "2468572"
     ]
    }
   ],
   "source": [
    "df_fact.count()"
   ]
  },
  {
   "cell_type": "code",
   "execution_count": 50,
   "metadata": {},
   "outputs": [
    {
     "data": {
      "application/vnd.jupyter.widget-view+json": {
       "model_id": "",
       "version_major": 2,
       "version_minor": 0
      },
      "text/plain": [
       "FloatProgress(value=0.0, bar_style='info', description='Progress:', layout=Layout(height='25px', width='50%'),…"
      ]
     },
     "metadata": {},
     "output_type": "display_data"
    },
    {
     "name": "stdout",
     "output_type": "stream",
     "text": [
      "root\n",
      " |-- trans_id: integer (nullable = true)\n",
      " |-- atm_id: integer (nullable = true)\n",
      " |-- weather_loc_id: integer (nullable = true)\n",
      " |-- date_id: integer (nullable = true)\n",
      " |-- card_type_id: integer (nullable = true)\n",
      " |-- atm_status: string (nullable = true)\n",
      " |-- currency: string (nullable = true)\n",
      " |-- service: string (nullable = true)\n",
      " |-- transaction_amount: integer (nullable = true)\n",
      " |-- message_code: string (nullable = true)\n",
      " |-- message_text: string (nullable = true)\n",
      " |-- rain_3h: double (nullable = true)\n",
      " |-- clouds_all: integer (nullable = true)\n",
      " |-- weather_id: integer (nullable = true)\n",
      " |-- weather_main: string (nullable = true)\n",
      " |-- weather_description: string (nullable = true)"
     ]
    }
   ],
   "source": [
    "df_fact.printSchema()"
   ]
  },
  {
   "cell_type": "markdown",
   "metadata": {},
   "source": [
    "## Data Validation and Cleaning"
   ]
  },
  {
   "cell_type": "code",
   "execution_count": 51,
   "metadata": {},
   "outputs": [
    {
     "data": {
      "application/vnd.jupyter.widget-view+json": {
       "model_id": "",
       "version_major": 2,
       "version_minor": 0
      },
      "text/plain": [
       "FloatProgress(value=0.0, bar_style='info', description='Progress:', layout=Layout(height='25px', width='50%'),…"
      ]
     },
     "metadata": {},
     "output_type": "display_data"
    },
    {
     "name": "stdout",
     "output_type": "stream",
     "text": [
      "+--------+------+--------------+-------+------------+----------+--------+-------+------------------+------------+------------+-------+----------+----------+------------+-------------------+\n",
      "|trans_id|atm_id|weather_loc_id|date_id|card_type_id|atm_status|currency|service|transaction_amount|message_code|message_text|rain_3h|clouds_all|weather_id|weather_main|weather_description|\n",
      "+--------+------+--------------+-------+------------+----------+--------+-------+------------------+------------+------------+-------+----------+----------+------------+-------------------+\n",
      "|       0|     0|             0|      0|           0|         0|       0|      0|                 0|     2459009|     2459010|   8087|      8087|      8087|        8087|               8087|\n",
      "+--------+------+--------------+-------+------------+----------+--------+-------+------------------+------------+------------+-------+----------+----------+------------+-------------------+"
     ]
    }
   ],
   "source": [
    "null_counts = df_fact.select([sum(col(column).isNull().cast(\"int\")).alias(column) for column in df_fact.columns])\n",
    "null_counts.show()"
   ]
  },
  {
   "cell_type": "markdown",
   "metadata": {},
   "source": [
    "#### Not cleaning nulls in message_code and message_text as their Nulls indicate successful transactions."
   ]
  },
  {
   "cell_type": "code",
   "execution_count": 52,
   "metadata": {},
   "outputs": [
    {
     "data": {
      "application/vnd.jupyter.widget-view+json": {
       "model_id": "",
       "version_major": 2,
       "version_minor": 0
      },
      "text/plain": [
       "FloatProgress(value=0.0, bar_style='info', description='Progress:', layout=Layout(height='25px', width='50%'),…"
      ]
     },
     "metadata": {},
     "output_type": "display_data"
    },
    {
     "name": "stdout",
     "output_type": "stream",
     "text": [
      "+----------+-------------------------------------------------------------------------------------------+\n",
      "|clouds_all|message_text                                                                               |\n",
      "+----------+-------------------------------------------------------------------------------------------+\n",
      "|null      |Suspected malfunction|0.000|57.721|11|2613939|0.000|276|1006|90|1|320.000|0|68|803|Clouds  |\n",
      "|null      |Suspected malfunction|0.000|57.721|11|2613939|0.000|275|1006|86|1|0.000|0|20|801|Clouds    |\n",
      "|null      |Suspected malfunction|0.000|57.721|11|2613939|0.000|275|1006|86|1|0.000|0|20|801|Clouds    |\n",
      "|null      |Suspected malfunction|0.000|57.004|10|2612301|0.000|272|1013|54|2|290.000|0|0|800|Clear    |\n",
      "|null      |Suspected malfunction|0.000|57.004|10|2612301|0.000|271|1014|63|1|190.000|0|0|800|Clear    |\n",
      "|null      |Suspected malfunction|0.000|55.676|13|2618425|0.000|274|1013|64|3|320.000|0|0|800|Clear    |\n",
      "|null      |Suspected malfunction|0.000|56.139|9|2620425|0.000|275|1015|80|2|270.000|0|0|800|Clear     |\n",
      "|null      |Suspected malfunction|0.000|56.139|9|2620425|0.000|275|1015|80|2|270.000|0|0|800|Clear     |\n",
      "|null      |Suspected malfunction|0.000|56.793|9|2615964|0.000|276|1015|74|4|290.000|0|0|800|Clear     |\n",
      "|null      |Suspected malfunction|0.000|56.793|9|2615964|0.000|276|1015|74|4|290.000|0|0|800|Clear     |\n",
      "|null      |Suspected malfunction|0.000|57.158|10|2625037|0.000|277|1013|41|1|270.000|0|20|801|Clouds  |\n",
      "|null      |Suspected malfunction|0.000|57.165|10|2620275|0.000|275|1013|47|0|250.000|0|0|800|Clear    |\n",
      "|null      |Suspected malfunction|0.000|55.506|10|2616933|0.000|278|1013|93|5|260.000|0|90|520|Rain    |\n",
      "|null      |Suspected malfunction|0.000|57.004|10|2612301|0.000|278|1000|86|6|220.000|0|75|500|Rain    |\n",
      "|null      |Suspected malfunction|0.000|57.004|10|2612301|0.000|278|1000|86|6|220.000|0|75|500|Rain    |\n",
      "|null      |Suspected malfunction|0.000|55.676|13|2618425|0.000|278|1003|93|6|230.000|0|75|520|Rain    |\n",
      "|null      |Suspected malfunction|0.000|56.170|10|2614030|0.000|281|999|87|10|270.000|0|92|500|Rain    |\n",
      "|null      |Suspected malfunction|0.000|56.715|10|2620952|0.000|280|1006|90|12|285.000|0|100|804|Clouds|\n",
      "|null      |Suspected malfunction|0.000|56.715|10|2620952|0.000|278|1002|65|9|349.000|0|88|804|Clouds  |\n",
      "|null      |Suspected malfunction|0.000|56.715|10|2620952|0.000|278|1002|65|9|349.000|0|88|804|Clouds  |\n",
      "+----------+-------------------------------------------------------------------------------------------+\n",
      "only showing top 20 rows"
     ]
    }
   ],
   "source": [
    "# analyzing the nulls in weather columns\n",
    "\n",
    "df_fact.filter(col('rain_3h').isNull()).select(\"clouds_all\",\"message_text\").show(5, truncate=False)"
   ]
  },
  {
   "cell_type": "code",
   "execution_count": 70,
   "metadata": {},
   "outputs": [
    {
     "data": {
      "application/vnd.jupyter.widget-view+json": {
       "model_id": "",
       "version_major": 2,
       "version_minor": 0
      },
      "text/plain": [
       "FloatProgress(value=0.0, bar_style='info', description='Progress:', layout=Layout(height='25px', width='50%'),…"
      ]
     },
     "metadata": {},
     "output_type": "display_data"
    },
    {
     "name": "stdout",
     "output_type": "stream",
     "text": [
      "+------------+\n",
      "|weather_main|\n",
      "+------------+\n",
      "|       Clear|\n",
      "|      Clouds|\n",
      "|        Mist|\n",
      "|Thunderstorm|\n",
      "|        Snow|\n",
      "|        Haze|\n",
      "|     TORNADO|\n",
      "|     Drizzle|\n",
      "|         Fog|\n",
      "|        Rain|\n",
      "+------------+"
     ]
    }
   ],
   "source": [
    "df_fact.select('weather_main').distinct().show()"
   ]
  },
  {
   "cell_type": "markdown",
   "metadata": {},
   "source": [
    "### Note:\n",
    "\n",
    "- This indicates that the missing rows in weather columns are because of all column values after message_text being assigned to message_text.\n",
    "- The values however don't include values for weather_description column. \n",
    "\n",
    "- So, we will clean the message_text column to extract the last 4 values for the columns:\n",
    "        rain_3h|clouds_all|weather_id|weather_main"
   ]
  },
  {
   "cell_type": "code",
   "execution_count": 53,
   "metadata": {},
   "outputs": [
    {
     "data": {
      "application/vnd.jupyter.widget-view+json": {
       "model_id": "",
       "version_major": 2,
       "version_minor": 0
      },
      "text/plain": [
       "FloatProgress(value=0.0, bar_style='info', description='Progress:', layout=Layout(height='25px', width='50%'),…"
      ]
     },
     "metadata": {},
     "output_type": "display_data"
    },
    {
     "name": "stdout",
     "output_type": "stream",
     "text": [
      "+------------------------------------------------------------------------------------------+\n",
      "|message_text                                                                              |\n",
      "+------------------------------------------------------------------------------------------+\n",
      "|Suspected malfunction|0.000|56.643|10|2620167|0.000|278|1038|88|8|285.000|0|44|802|Clouds |\n",
      "|Suspected malfunction|0.000|55.490|9|2618528|0.000|280|1020|100|3|150.000|0|92|300|Drizzle|\n",
      "|Timed-out taking card|0.000|56.715|10|2620952|0.000|276|998|88|7|192.000|0|92|500|Rain    |\n",
      "|Suspected malfunction|0.000|55.060|11|2612045|0.000|288|1021|87|3|80.000|0|40|802|Clouds  |\n",
      "|Suspected malfunction|0.000|56.567|9|2613731|0.000|279|1033|100|4|250.000|0|88|500|Rain   |\n",
      "|Suspected malfunction|0.000|57.048|10|2616235|0.000|289|1010|68|9|39.000|0|68|803|Clouds  |\n",
      "|Suspected malfunction|0.000|57.441|11|2621927|0.000|285|1030|100|8|120.000|0|92|500|Rain  |\n",
      "|Suspected malfunction|0.000|55.506|10|2616933|0.000|293|1017|68|3|150.000|0|0|800|Clear   |\n",
      "|Suspected malfunction                                                                     |\n",
      "|Suspected malfunction|0.000|57.048|10|2616235|0.000|279|1029|96|7|246.000|0|76|500|Rain   |\n",
      "+------------------------------------------------------------------------------------------+\n",
      "only showing top 10 rows"
     ]
    }
   ],
   "source": [
    "df_fact.select('message_text').distinct().show(10, truncate=False)\n",
    "\n",
    "# message_text|weather_lat|weather_lon|weather_city_id|weather_city_name|temp|pressure|humidity|wind_speed|wind_deg|rain_3h|clouds_all|weather_id|weather_main\n"
   ]
  },
  {
   "cell_type": "code",
   "execution_count": 62,
   "metadata": {
    "vscode": {
     "languageId": "plaintext"
    }
   },
   "outputs": [
    {
     "data": {
      "application/vnd.jupyter.widget-view+json": {
       "model_id": "",
       "version_major": 2,
       "version_minor": 0
      },
      "text/plain": [
       "FloatProgress(value=0.0, bar_style='info', description='Progress:', layout=Layout(height='25px', width='50%'),…"
      ]
     },
     "metadata": {},
     "output_type": "display_data"
    },
    {
     "name": "stdout",
     "output_type": "stream",
     "text": [
      "+----------------------------------------------------------------------------------------+----+\n",
      "|message_text                                                                            |val |\n",
      "+----------------------------------------------------------------------------------------+----+\n",
      "|Timed-out taking money                                                                  |null|\n",
      "|Suspected malfunction|0.000|57.165|10|2620275|0.000|286|997|87|59|160.000|0|75|500|Rain |75  |\n",
      "|Suspected malfunction|0.000|57.165|10|2620275|0.000|285|1011|87|11|272.000|0|76|500|Rain|76  |\n",
      "|Suspected malfunction|0.000|57.165|10|2620275|0.000|288|998|77|8|240.000|0|40|802|Clouds|40  |\n",
      "|Suspected malfunction|0.000|56.994|10|2621449|0.000|272|1011|74|7|60.000|0|75|600|Snow  |75  |\n",
      "|Suspected malfunction|0.000|56.994|10|2621449|0.000|285|1023|87|4|80.000|0|75|803|Clouds|75  |\n",
      "|Suspected malfunction|0.000|56.994|10|2621449|0.000|285|1023|87|4|80.000|0|75|803|Clouds|75  |\n",
      "|Suspected malfunction|0.000|56.994|10|2621449|0.000|285|1023|87|4|80.000|0|75|803|Clouds|75  |\n",
      "|Suspected malfunction|0.000|56.994|10|2621449|0.000|286|1022|99|3|284.000|1|92|500|Rain |92  |\n",
      "|Suspected malfunction|0.000|56.994|10|2621449|0.000|286|1022|99|3|284.000|1|92|500|Rain |92  |\n",
      "+----------------------------------------------------------------------------------------+----+\n",
      "only showing top 10 rows"
     ]
    }
   ],
   "source": [
    "# checking if the split function is working properly on the column\n",
    "\n",
    "df_fact.filter(df.message_text.isNotNull()) \\\n",
    "        .select('message_text', split(col(\"message_text\"), \"\\\\|\")[12].alias('val')) \\\n",
    "        .show(10, truncate=False)\n"
   ]
  },
  {
   "cell_type": "code",
   "execution_count": 63,
   "metadata": {},
   "outputs": [
    {
     "data": {
      "application/vnd.jupyter.widget-view+json": {
       "model_id": "",
       "version_major": 2,
       "version_minor": 0
      },
      "text/plain": [
       "FloatProgress(value=0.0, bar_style='info', description='Progress:', layout=Layout(height='25px', width='50%'),…"
      ]
     },
     "metadata": {},
     "output_type": "display_data"
    }
   ],
   "source": [
    "# assigning the values correctly after splitting message_text column\n",
    "\n",
    "# if '|' is present in message_text then split based on '|' and assign value at 11th index to rain_3h \n",
    "# else keep the rain_3h value as it is\n",
    "\n",
    "df_fact = df_fact.withColumn(\n",
    "    \"rain_3h\",\n",
    "    when(col(\"message_text\").contains(\"|\"), split(col(\"message_text\"), \"\\\\|\")[11])\n",
    "    .otherwise(col(\"rain_3h\"))\n",
    ")"
   ]
  },
  {
   "cell_type": "code",
   "execution_count": 64,
   "metadata": {},
   "outputs": [
    {
     "data": {
      "application/vnd.jupyter.widget-view+json": {
       "model_id": "",
       "version_major": 2,
       "version_minor": 0
      },
      "text/plain": [
       "FloatProgress(value=0.0, bar_style='info', description='Progress:', layout=Layout(height='25px', width='50%'),…"
      ]
     },
     "metadata": {},
     "output_type": "display_data"
    }
   ],
   "source": [
    "df_fact = df_fact.withColumn(\n",
    "    \"clouds_all\",\n",
    "    when(col(\"message_text\").contains(\"|\"), split(col(\"message_text\"), \"\\\\|\")[12])\n",
    "    .otherwise(col(\"clouds_all\"))\n",
    ")"
   ]
  },
  {
   "cell_type": "code",
   "execution_count": 65,
   "metadata": {},
   "outputs": [
    {
     "data": {
      "application/vnd.jupyter.widget-view+json": {
       "model_id": "",
       "version_major": 2,
       "version_minor": 0
      },
      "text/plain": [
       "FloatProgress(value=0.0, bar_style='info', description='Progress:', layout=Layout(height='25px', width='50%'),…"
      ]
     },
     "metadata": {},
     "output_type": "display_data"
    }
   ],
   "source": [
    "df_fact = df_fact.withColumn(\n",
    "    \"weather_id\",\n",
    "    when(col(\"message_text\").contains(\"|\"), split(col(\"message_text\"), \"\\\\|\")[13])\n",
    "    .otherwise(col(\"weather_id\"))\n",
    ")"
   ]
  },
  {
   "cell_type": "code",
   "execution_count": 66,
   "metadata": {},
   "outputs": [
    {
     "data": {
      "application/vnd.jupyter.widget-view+json": {
       "model_id": "",
       "version_major": 2,
       "version_minor": 0
      },
      "text/plain": [
       "FloatProgress(value=0.0, bar_style='info', description='Progress:', layout=Layout(height='25px', width='50%'),…"
      ]
     },
     "metadata": {},
     "output_type": "display_data"
    }
   ],
   "source": [
    "df_fact = df_fact.withColumn(\n",
    "    \"weather_main\",\n",
    "    when(col(\"message_text\").contains(\"|\"), split(col(\"message_text\"), \"\\\\|\")[14])\n",
    "    .otherwise(col(\"weather_main\"))\n",
    ")"
   ]
  },
  {
   "cell_type": "code",
   "execution_count": 67,
   "metadata": {},
   "outputs": [
    {
     "data": {
      "application/vnd.jupyter.widget-view+json": {
       "model_id": "",
       "version_major": 2,
       "version_minor": 0
      },
      "text/plain": [
       "FloatProgress(value=0.0, bar_style='info', description='Progress:', layout=Layout(height='25px', width='50%'),…"
      ]
     },
     "metadata": {},
     "output_type": "display_data"
    }
   ],
   "source": [
    "df_fact = df_fact.withColumn(\n",
    "    \"message_text\",\n",
    "    when(col(\"message_text\").contains(\"|\"), split(col(\"message_text\"), \"\\\\|\")[0])\n",
    "    .otherwise(col(\"message_text\"))\n",
    ")"
   ]
  },
  {
   "cell_type": "code",
   "execution_count": 68,
   "metadata": {},
   "outputs": [
    {
     "data": {
      "application/vnd.jupyter.widget-view+json": {
       "model_id": "",
       "version_major": 2,
       "version_minor": 0
      },
      "text/plain": [
       "FloatProgress(value=0.0, bar_style='info', description='Progress:', layout=Layout(height='25px', width='50%'),…"
      ]
     },
     "metadata": {},
     "output_type": "display_data"
    },
    {
     "name": "stdout",
     "output_type": "stream",
     "text": [
      "+------------------------------+\n",
      "|message_text                  |\n",
      "+------------------------------+\n",
      "|Suspected malfunction         |\n",
      "|null                          |\n",
      "|No response received from host|\n",
      "|Timed-out taking card         |\n",
      "|Timed-out taking money        |\n",
      "+------------------------------+"
     ]
    }
   ],
   "source": [
    "# validating the unique values in message_text column now\n",
    "\n",
    "df_fact.select('message_text').distinct().show(truncate=False)"
   ]
  },
  {
   "cell_type": "code",
   "execution_count": 71,
   "metadata": {},
   "outputs": [
    {
     "data": {
      "application/vnd.jupyter.widget-view+json": {
       "model_id": "",
       "version_major": 2,
       "version_minor": 0
      },
      "text/plain": [
       "FloatProgress(value=0.0, bar_style='info', description='Progress:', layout=Layout(height='25px', width='50%'),…"
      ]
     },
     "metadata": {},
     "output_type": "display_data"
    },
    {
     "name": "stdout",
     "output_type": "stream",
     "text": [
      "+--------+------+--------------+-------+------------+----------+--------+-------+------------------+------------+------------+-------+----------+----------+------------+-------------------+\n",
      "|trans_id|atm_id|weather_loc_id|date_id|card_type_id|atm_status|currency|service|transaction_amount|message_code|message_text|rain_3h|clouds_all|weather_id|weather_main|weather_description|\n",
      "+--------+------+--------------+-------+------------+----------+--------+-------+------------------+------------+------------+-------+----------+----------+------------+-------------------+\n",
      "|       0|     0|             0|      0|           0|         0|       0|      0|                 0|     2459009|     2459010|      0|         0|         0|           0|               8087|\n",
      "+--------+------+--------------+-------+------------+----------+--------+-------+------------------+------------+------------+-------+----------+----------+------------+-------------------+"
     ]
    }
   ],
   "source": [
    "# checking nulls now\n",
    "\n",
    "null_counts = df_fact.select([sum(col(column).isNull().cast(\"int\")).alias(column) for column in df_fact.columns])\n",
    "null_counts.show()"
   ]
  },
  {
   "cell_type": "code",
   "execution_count": null,
   "metadata": {},
   "outputs": [],
   "source": []
  },
  {
   "cell_type": "markdown",
   "metadata": {},
   "source": [
    "## Writing tables in S3"
   ]
  },
  {
   "cell_type": "code",
   "execution_count": 72,
   "metadata": {},
   "outputs": [
    {
     "data": {
      "application/vnd.jupyter.widget-view+json": {
       "model_id": "",
       "version_major": 2,
       "version_minor": 0
      },
      "text/plain": [
       "FloatProgress(value=0.0, bar_style='info', description='Progress:', layout=Layout(height='25px', width='50%'),…"
      ]
     },
     "metadata": {},
     "output_type": "display_data"
    }
   ],
   "source": [
    "dim_atm_path = \"s3://atm-data-model/DIM_ATM/\" \n",
    "\n",
    "# Write atm dimension to S3 in CSV format\n",
    "df_atm.write \\\n",
    "    .format(\"csv\") \\\n",
    "    .option(\"header\", \"true\") \\\n",
    "    .mode(\"overwrite\") \\\n",
    "    .save(dim_atm_path)"
   ]
  },
  {
   "cell_type": "code",
   "execution_count": 73,
   "metadata": {},
   "outputs": [
    {
     "data": {
      "application/vnd.jupyter.widget-view+json": {
       "model_id": "",
       "version_major": 2,
       "version_minor": 0
      },
      "text/plain": [
       "FloatProgress(value=0.0, bar_style='info', description='Progress:', layout=Layout(height='25px', width='50%'),…"
      ]
     },
     "metadata": {},
     "output_type": "display_data"
    }
   ],
   "source": [
    "dim_date_path = \"s3://atm-data-model/DIM_DATE/\" \n",
    "\n",
    "# Write date dimension to S3 in CSV format\n",
    "df_date.write \\\n",
    "    .format(\"csv\") \\\n",
    "    .option(\"header\", \"true\") \\\n",
    "    .mode(\"overwrite\") \\\n",
    "    .save(dim_date_path)"
   ]
  },
  {
   "cell_type": "code",
   "execution_count": 74,
   "metadata": {},
   "outputs": [
    {
     "data": {
      "application/vnd.jupyter.widget-view+json": {
       "model_id": "",
       "version_major": 2,
       "version_minor": 0
      },
      "text/plain": [
       "FloatProgress(value=0.0, bar_style='info', description='Progress:', layout=Layout(height='25px', width='50%'),…"
      ]
     },
     "metadata": {},
     "output_type": "display_data"
    }
   ],
   "source": [
    "dim_card_path = \"s3://atm-data-model/DIM_CARD_TYPE/\" \n",
    "\n",
    "# Write card dimension to S3 in CSV format\n",
    "df_card.write \\\n",
    "    .format(\"csv\") \\\n",
    "    .option(\"header\", \"true\") \\\n",
    "    .mode(\"overwrite\") \\\n",
    "    .save(dim_card_path)"
   ]
  },
  {
   "cell_type": "code",
   "execution_count": 75,
   "metadata": {},
   "outputs": [
    {
     "data": {
      "application/vnd.jupyter.widget-view+json": {
       "model_id": "",
       "version_major": 2,
       "version_minor": 0
      },
      "text/plain": [
       "FloatProgress(value=0.0, bar_style='info', description='Progress:', layout=Layout(height='25px', width='50%'),…"
      ]
     },
     "metadata": {},
     "output_type": "display_data"
    }
   ],
   "source": [
    "dim_location_path = \"s3://atm-data-model/DIM_LOCATION/\" \n",
    "\n",
    "# Write location dimension to S3 in CSV format\n",
    "df_location.write \\\n",
    "    .format(\"csv\") \\\n",
    "    .option(\"header\", \"true\") \\\n",
    "    .mode(\"overwrite\") \\\n",
    "    .save(dim_location_path)"
   ]
  },
  {
   "cell_type": "code",
   "execution_count": 76,
   "metadata": {},
   "outputs": [
    {
     "data": {
      "application/vnd.jupyter.widget-view+json": {
       "model_id": "",
       "version_major": 2,
       "version_minor": 0
      },
      "text/plain": [
       "FloatProgress(value=0.0, bar_style='info', description='Progress:', layout=Layout(height='25px', width='50%'),…"
      ]
     },
     "metadata": {},
     "output_type": "display_data"
    }
   ],
   "source": [
    "fact_path = \"s3://atm-data-model/FACT_ATM_TRANS/\" \n",
    "\n",
    "# Write fact table to S3 in CSV format\n",
    "df_fact.write \\\n",
    "    .format(\"csv\") \\\n",
    "    .option(\"header\", \"true\") \\\n",
    "    .mode(\"overwrite\") \\\n",
    "    .save(fact_path)"
   ]
  },
  {
   "cell_type": "code",
   "execution_count": null,
   "metadata": {},
   "outputs": [],
   "source": []
  }
 ],
 "metadata": {
  "kernelspec": {
   "display_name": "PySpark",
   "language": "",
   "name": "pysparkkernel"
  },
  "language_info": {
   "codemirror_mode": {
    "name": "python",
    "version": 3
   },
   "mimetype": "text/x-python",
   "name": "pyspark",
   "pygments_lexer": "python3"
  }
 },
 "nbformat": 4,
 "nbformat_minor": 2
}
